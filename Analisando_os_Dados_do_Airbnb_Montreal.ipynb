{
  "nbformat": 4,
  "nbformat_minor": 0,
  "metadata": {
    "colab": {
      "name": "Analisando os Dados do Airbnb - Montreal.ipynb",
      "provenance": [],
      "collapsed_sections": [],
      "include_colab_link": true
    },
    "kernelspec": {
      "name": "python3",
      "display_name": "Python 3"
    }
  },
  "cells": [
    {
      "cell_type": "markdown",
      "metadata": {
        "id": "view-in-github",
        "colab_type": "text"
      },
      "source": [
        "<a href=\"https://colab.research.google.com/github/fernandoescobosa/data_science/blob/main/Analisando_os_Dados_do_Airbnb_Montreal.ipynb\" target=\"_parent\"><img src=\"https://colab.research.google.com/assets/colab-badge.svg\" alt=\"Open In Colab\"/></a>"
      ]
    },
    {
      "cell_type": "markdown",
      "metadata": {
        "id": "kLI0gJtzDGuQ"
      },
      "source": [
        "# Análise dos Dados do Airbnb - *Montreal*\n",
        "\n",
        "<center><img alt=\"Analisando Airbnb\" width=\"30%\" src=\"https://www.area360.com.au/wp-content/uploads/2017/09/airbnb-logo.jpg\"></center>\n",
        "\n",
        "O [Airbnb](https://www.airbnb.com.br/), Startup fundada em 2008, tem como objetivo conectar pessoas que querem viajar (e se hospedar) com anfitriçoes que queiram alugar seus imóveis. Air, Bed and Breakfast são as palavras que juntas compõem seu nome. \n",
        "\n",
        "Trazendo a simplicidade e a praticidade, até o fim de 2020 o airbnb já havia hospedado mais de **800 milhões de pessoas** ao redor do mundo, dentre os mais de **220 países e regiões** que utilizam seu seviço. Além disso, já possuia mais de **4 milhões de anfitriões** que anunciavam, gratuitamente, seus imóveis e acomodações.\n",
        "\n",
        "Uma das iniciativas do Airbnb é disponibilizar dados do site, para algumas das principais cidades do mundo. Por meio do portal [Inside Airbnb](http://insideairbnb.com/get-the-data.html), é possível baixar uma grande quantidade de dados para desenvolver projetos e soluções de *Data Science*.\n",
        "\n",
        "\n",
        "<center><img alt=\"Montreal\" width=\"60%\" src=\"https://etacanadavisa.com.br/main/wp-content/uploads/2019/04//1556403596_image2-830x381.jpg\"></center>\n",
        "\n",
        "**Neste *notebook*, iremos analisar os dados referentes à cidade Montreal, no Canadá, e ver quais insights podem ser extraídos a partir de dados brutos.**"
      ]
    },
    {
      "cell_type": "markdown",
      "metadata": {
        "id": "0zxQHhIUDF_2"
      },
      "source": [
        "## Obtenção dos Dados\n",
        "\n",
        "Começaremos importanto as bibliotecas que serão utilizadas para o desenvolvimento deste projeto\n",
        "\n",
        "* [**pandas**](https://pandas.pydata.org/): ferramenta open source para manipulação e análise de dados\n",
        "* [**matplotlib**](https://matplotlib.org/): biblioteca para a criação de visualizações estáticas, animadas e interativas em Python.\n",
        "* [**seaborn**](https://seaborn.pydata.org/): biblioteca que fornece uma interface de alto nível para desenhar gráficos estatísticos atraentes e informativos, baseada em matplotlib.\n",
        "\n",
        "Os dados utilizados neste projeto foram obtidos em [Inside Airbnb](http://insideairbnb.com/get-the-data.html). Mais precisamente, utilizaremos os dados listings.csv de Montreal que contém informações resumidas e métricas para listagens."
      ]
    },
    {
      "cell_type": "code",
      "metadata": {
        "id": "Vhp2wMPgJ6zX"
      },
      "source": [
        "import pandas as pd\n",
        "import matplotlib.pyplot as plt\n",
        "import seaborn as sns\n",
        "\n",
        "%matplotlib inline"
      ],
      "execution_count": 1,
      "outputs": []
    },
    {
      "cell_type": "code",
      "metadata": {
        "id": "tUmoAT8DLQ5T"
      },
      "source": [
        "df = pd.read_csv(\"http://data.insideairbnb.com/canada/qc/montreal/2020-12-18/visualisations/listings.csv\")"
      ],
      "execution_count": 2,
      "outputs": []
    },
    {
      "cell_type": "markdown",
      "metadata": {
        "id": "qb5By2nIMS6m"
      },
      "source": [
        "## Análise dos Dados\n",
        "\n",
        "Iniciaremos agora a etapa de analise exploratória. Antes de qualquer coisa, precisamos ententer como os dados estão estruturados, e para isso criaremos um dicionário das variáveis."
      ]
    },
    {
      "cell_type": "markdown",
      "metadata": {
        "id": "RYgvuebKNg8-"
      },
      "source": [
        "**Dicionário das variáveis**\n",
        "\n",
        "* id - número de id usado para identificar o imóvel\n",
        "* name - nome do imóvel no anúncio\n",
        "* host_id - número de id usado para identificar o anfitrião\n",
        "* host_name - nome do anfitrião\n",
        "* neighbourhood_group - apenas valores ausentes\n",
        "* neighbourhood - nome do bairro\n",
        "* latitude - coordenada da latitude\n",
        "* longitude - coordenada da longitude\n",
        "* room_type - tipo de dormitório, como por exemplo quarto privado ou casa inteira\n",
        "* price - preço\n",
        "* minimum_nights - mínimo de noites para hospedagem\n",
        "* number_of_reviews - número de reviews que o imóvel já recebeu\n",
        "* last_review - data da última review que o imóvel recebeu\n",
        "* reviews_per_month - média de reviews recebidas por mês\n",
        "* calculated_host_listings_count - número de imóveis que o mesmo anfitrião possui\n",
        "* availability_365 - número de dias disponiveis dentro do período de 365 dias\n",
        "\n",
        "Vamos dar uma olhada nas primeiras 5 entradas do nosso conjunto de dados, ou *dataset*."
      ]
    },
    {
      "cell_type": "code",
      "metadata": {
        "id": "2iS_dae7YQtO",
        "colab": {
          "base_uri": "https://localhost:8080/",
          "height": 326
        },
        "outputId": "e5bef2cd-c9c6-4024-f1ff-1204dfcd716d"
      },
      "source": [
        "df.head(5)"
      ],
      "execution_count": 3,
      "outputs": [
        {
          "output_type": "execute_result",
          "data": {
            "text/html": [
              "<div>\n",
              "<style scoped>\n",
              "    .dataframe tbody tr th:only-of-type {\n",
              "        vertical-align: middle;\n",
              "    }\n",
              "\n",
              "    .dataframe tbody tr th {\n",
              "        vertical-align: top;\n",
              "    }\n",
              "\n",
              "    .dataframe thead th {\n",
              "        text-align: right;\n",
              "    }\n",
              "</style>\n",
              "<table border=\"1\" class=\"dataframe\">\n",
              "  <thead>\n",
              "    <tr style=\"text-align: right;\">\n",
              "      <th></th>\n",
              "      <th>id</th>\n",
              "      <th>name</th>\n",
              "      <th>host_id</th>\n",
              "      <th>host_name</th>\n",
              "      <th>neighbourhood_group</th>\n",
              "      <th>neighbourhood</th>\n",
              "      <th>latitude</th>\n",
              "      <th>longitude</th>\n",
              "      <th>room_type</th>\n",
              "      <th>price</th>\n",
              "      <th>minimum_nights</th>\n",
              "      <th>number_of_reviews</th>\n",
              "      <th>last_review</th>\n",
              "      <th>reviews_per_month</th>\n",
              "      <th>calculated_host_listings_count</th>\n",
              "      <th>availability_365</th>\n",
              "    </tr>\n",
              "  </thead>\n",
              "  <tbody>\n",
              "    <tr>\n",
              "      <th>0</th>\n",
              "      <td>2078</td>\n",
              "      <td>Central comfy close to Metro Laurie</td>\n",
              "      <td>2277</td>\n",
              "      <td>Nelia</td>\n",
              "      <td>NaN</td>\n",
              "      <td>Le Plateau-Mont-Royal</td>\n",
              "      <td>45.53069</td>\n",
              "      <td>-73.58588</td>\n",
              "      <td>Private room</td>\n",
              "      <td>38</td>\n",
              "      <td>2</td>\n",
              "      <td>245</td>\n",
              "      <td>2018-09-23</td>\n",
              "      <td>2.16</td>\n",
              "      <td>1</td>\n",
              "      <td>0</td>\n",
              "    </tr>\n",
              "    <tr>\n",
              "      <th>1</th>\n",
              "      <td>29059</td>\n",
              "      <td>Lovely studio Quartier Latin</td>\n",
              "      <td>125031</td>\n",
              "      <td>Maryline</td>\n",
              "      <td>NaN</td>\n",
              "      <td>Ville-Marie</td>\n",
              "      <td>45.51939</td>\n",
              "      <td>-73.56482</td>\n",
              "      <td>Entire home/apt</td>\n",
              "      <td>169</td>\n",
              "      <td>2</td>\n",
              "      <td>330</td>\n",
              "      <td>2020-10-27</td>\n",
              "      <td>2.58</td>\n",
              "      <td>2</td>\n",
              "      <td>350</td>\n",
              "    </tr>\n",
              "    <tr>\n",
              "      <th>2</th>\n",
              "      <td>29061</td>\n",
              "      <td>Maison historique - Quartier Latin</td>\n",
              "      <td>125031</td>\n",
              "      <td>Maryline</td>\n",
              "      <td>NaN</td>\n",
              "      <td>Ville-Marie</td>\n",
              "      <td>45.51929</td>\n",
              "      <td>-73.56493</td>\n",
              "      <td>Entire home/apt</td>\n",
              "      <td>248</td>\n",
              "      <td>3</td>\n",
              "      <td>69</td>\n",
              "      <td>2020-11-01</td>\n",
              "      <td>0.64</td>\n",
              "      <td>2</td>\n",
              "      <td>348</td>\n",
              "    </tr>\n",
              "    <tr>\n",
              "      <th>3</th>\n",
              "      <td>31847</td>\n",
              "      <td>Downtown/Airport room</td>\n",
              "      <td>2319</td>\n",
              "      <td>Gail</td>\n",
              "      <td>NaN</td>\n",
              "      <td>Le Sud-Ouest</td>\n",
              "      <td>45.48467</td>\n",
              "      <td>-73.57995</td>\n",
              "      <td>Private room</td>\n",
              "      <td>40</td>\n",
              "      <td>2</td>\n",
              "      <td>153</td>\n",
              "      <td>2020-01-07</td>\n",
              "      <td>1.19</td>\n",
              "      <td>5</td>\n",
              "      <td>0</td>\n",
              "    </tr>\n",
              "    <tr>\n",
              "      <th>4</th>\n",
              "      <td>34715</td>\n",
              "      <td>Chez Patrac ! Métro Beaubien</td>\n",
              "      <td>149769</td>\n",
              "      <td>Alain</td>\n",
              "      <td>NaN</td>\n",
              "      <td>Rosemont-La Petite-Patrie</td>\n",
              "      <td>45.53840</td>\n",
              "      <td>-73.60355</td>\n",
              "      <td>Entire home/apt</td>\n",
              "      <td>135</td>\n",
              "      <td>4</td>\n",
              "      <td>4</td>\n",
              "      <td>2011-09-12</td>\n",
              "      <td>0.03</td>\n",
              "      <td>1</td>\n",
              "      <td>358</td>\n",
              "    </tr>\n",
              "  </tbody>\n",
              "</table>\n",
              "</div>"
            ],
            "text/plain": [
              "      id  ... availability_365\n",
              "0   2078  ...                0\n",
              "1  29059  ...              350\n",
              "2  29061  ...              348\n",
              "3  31847  ...                0\n",
              "4  34715  ...              358\n",
              "\n",
              "[5 rows x 16 columns]"
            ]
          },
          "metadata": {
            "tags": []
          },
          "execution_count": 3
        }
      ]
    },
    {
      "cell_type": "markdown",
      "metadata": {
        "id": "6-B_qtEaYEd-"
      },
      "source": [
        "### **Volume dos dados e tipos das variáveis** \r\n",
        "\r\n",
        "Um primeiro passo para a análise de dados é verificar o número de entradas e variáveis, além de tomarmos ciência do tipo de cada uma das variáveis.\r\n",
        "\r\n",
        "Temos dois pontos que podemos observar com relação ao tipo das variáveis: \r\n",
        "* *price* é do tipo int, e portanto quando trabalharmos com esta variável não precisaremos nos preocupar em convertê-la;\r\n",
        "* *last_review* é do tipo object (string), e não datetime."
      ]
    },
    {
      "cell_type": "code",
      "metadata": {
        "id": "TFRK0tniLV-G",
        "colab": {
          "base_uri": "https://localhost:8080/",
          "height": 340
        },
        "outputId": "cf6e3ccf-7284-4d22-dd16-6c8ae5683998"
      },
      "source": [
        "print(\"Entradas: {}\".format(df.shape[0]))\n",
        "print(\"Variáveis: {}\".format(df.shape[1]))\n",
        "\n",
        "display(df.dtypes)\n"
      ],
      "execution_count": 4,
      "outputs": [
        {
          "output_type": "stream",
          "text": [
            "Entradas: 13767\n",
            "Variáveis: 16\n"
          ],
          "name": "stdout"
        },
        {
          "output_type": "display_data",
          "data": {
            "text/plain": [
              "id                                  int64\n",
              "name                               object\n",
              "host_id                             int64\n",
              "host_name                          object\n",
              "neighbourhood_group               float64\n",
              "neighbourhood                      object\n",
              "latitude                          float64\n",
              "longitude                         float64\n",
              "room_type                          object\n",
              "price                               int64\n",
              "minimum_nights                      int64\n",
              "number_of_reviews                   int64\n",
              "last_review                        object\n",
              "reviews_per_month                 float64\n",
              "calculated_host_listings_count      int64\n",
              "availability_365                    int64\n",
              "dtype: object"
            ]
          },
          "metadata": {
            "tags": []
          }
        }
      ]
    },
    {
      "cell_type": "markdown",
      "metadata": {
        "id": "yz1urSUGW9iE"
      },
      "source": [
        "### **Valores ausentes no *dataset***\r\n",
        "\r\n",
        "Se olharmos as 5 primeiras entradas do dataset, notamos que existem entradas com NaN, o que denota valores que estão faltando. Fazendo uma análise em busca de todos os valores ausentes, chegamos às seguintes conclusões:\r\n",
        "* *neighbourhood_group* não possui valor algum;\r\n",
        "* *reviews_per_month* e *last_review* possuem 23.5% dos valores ausentes;\r\n",
        "* *name* e *host_name* possuem menos de 0.1% de valores faltando.\r\n"
      ]
    },
    {
      "cell_type": "code",
      "metadata": {
        "id": "plk2FjbCXOqP",
        "colab": {
          "base_uri": "https://localhost:8080/"
        },
        "outputId": "b644cc93-3c82-4602-d5cb-57937f3dd9ec"
      },
      "source": [
        "(df.isnull().sum() / df.shape[0]).sort_values(ascending=False)"
      ],
      "execution_count": 5,
      "outputs": [
        {
          "output_type": "execute_result",
          "data": {
            "text/plain": [
              "neighbourhood_group               1.000000\n",
              "reviews_per_month                 0.235491\n",
              "last_review                       0.235491\n",
              "name                              0.000581\n",
              "host_name                         0.000218\n",
              "availability_365                  0.000000\n",
              "calculated_host_listings_count    0.000000\n",
              "number_of_reviews                 0.000000\n",
              "minimum_nights                    0.000000\n",
              "price                             0.000000\n",
              "room_type                         0.000000\n",
              "longitude                         0.000000\n",
              "latitude                          0.000000\n",
              "neighbourhood                     0.000000\n",
              "host_id                           0.000000\n",
              "id                                0.000000\n",
              "dtype: float64"
            ]
          },
          "metadata": {
            "tags": []
          },
          "execution_count": 5
        }
      ]
    },
    {
      "cell_type": "markdown",
      "metadata": {
        "id": "iHXvvHIxaoNc"
      },
      "source": [
        "### **Entendendo as variáveis** \r\n",
        "Para entender um pouco mais das variáveis, vamos verificar as suas distribuições plotando histogramas para as variáveis numéricas. Desta forma já temos indícios de que existem valores atípicos para as variáveis *price* e *minimum_nights*."
      ]
    },
    {
      "cell_type": "code",
      "metadata": {
        "id": "q2wWSfeRbmBo",
        "colab": {
          "base_uri": "https://localhost:8080/",
          "height": 607
        },
        "outputId": "a4970ad8-a7a5-4ec6-8eb2-9b7a96754445"
      },
      "source": [
        "df[['price', 'minimum_nights', 'number_of_reviews', 'reviews_per_month', \n",
        "    'calculated_host_listings_count', 'availability_365']].hist(bins=15, \n",
        "                                                                figsize=(15,10));"
      ],
      "execution_count": 6,
      "outputs": [
        {
          "output_type": "display_data",
          "data": {
            "image/png": "[encoded data removed]",
            "text/plain": [
              "<Figure size 1080x720 with 6 Axes>"
            ]
          },
          "metadata": {
            "tags": [],
            "needs_background": "light"
          }
        }
      ]
    },
    {
      "cell_type": "markdown",
      "metadata": {
        "id": "T0QbOnILvmA6"
      },
      "source": [
        "### **Existência de outliers**\r\n",
        "\r\n",
        "Com o auxílio do resumo estatístico abaixo, podemos verificar a existência de outliers nos dados:\r\n",
        "* a variável *price* possui um valor mínimo de 0, e apesar de 75% dos valores estarem abaixo de 120, possui um valor máximo de 13294;\r\n",
        "* a variável *minimum_nights* possui um valor máximo de 11684, o que ultrapassa os 365 dias do ano.\r\n",
        "A partir de gráficos box-plot é possivel confirmar estas hipóteses. Mais a frente, limparemos os dados excluindo estes outliers.\r\n",
        "\r\n",
        "Ao plotar gráficos para as variáveis *number_of_reviews* e *reviews_per_month*, também verificamos a existência de valores exteriores, porém que não consideraremos como outliers, pois um imóvel cadastrado à mais tempo na plataforma, ou que possui alta demanda, tende a ter valores discrepantes."
      ]
    },
    {
      "cell_type": "code",
      "metadata": {
        "colab": {
          "base_uri": "https://localhost:8080/",
          "height": 297
        },
        "id": "ikMv4AD8wHYG",
        "outputId": "66ec85be-45a1-4e80-e6ac-f04ef3e2ccff"
      },
      "source": [
        "df[['price', 'minimum_nights', 'number_of_reviews', 'reviews_per_month', \r\n",
        "    'calculated_host_listings_count', 'availability_365']].describe()"
      ],
      "execution_count": 7,
      "outputs": [
        {
          "output_type": "execute_result",
          "data": {
            "text/html": [
              "<div>\n",
              "<style scoped>\n",
              "    .dataframe tbody tr th:only-of-type {\n",
              "        vertical-align: middle;\n",
              "    }\n",
              "\n",
              "    .dataframe tbody tr th {\n",
              "        vertical-align: top;\n",
              "    }\n",
              "\n",
              "    .dataframe thead th {\n",
              "        text-align: right;\n",
              "    }\n",
              "</style>\n",
              "<table border=\"1\" class=\"dataframe\">\n",
              "  <thead>\n",
              "    <tr style=\"text-align: right;\">\n",
              "      <th></th>\n",
              "      <th>price</th>\n",
              "      <th>minimum_nights</th>\n",
              "      <th>number_of_reviews</th>\n",
              "      <th>reviews_per_month</th>\n",
              "      <th>calculated_host_listings_count</th>\n",
              "      <th>availability_365</th>\n",
              "    </tr>\n",
              "  </thead>\n",
              "  <tbody>\n",
              "    <tr>\n",
              "      <th>count</th>\n",
              "      <td>13767.000000</td>\n",
              "      <td>13767.000000</td>\n",
              "      <td>13767.000000</td>\n",
              "      <td>10525.000000</td>\n",
              "      <td>13767.000000</td>\n",
              "      <td>13767.000000</td>\n",
              "    </tr>\n",
              "    <tr>\n",
              "      <th>mean</th>\n",
              "      <td>118.505339</td>\n",
              "      <td>14.112298</td>\n",
              "      <td>20.986562</td>\n",
              "      <td>0.891945</td>\n",
              "      <td>7.091668</td>\n",
              "      <td>130.273698</td>\n",
              "    </tr>\n",
              "    <tr>\n",
              "      <th>std</th>\n",
              "      <td>288.931405</td>\n",
              "      <td>107.392973</td>\n",
              "      <td>45.494290</td>\n",
              "      <td>1.247030</td>\n",
              "      <td>15.805663</td>\n",
              "      <td>142.181803</td>\n",
              "    </tr>\n",
              "    <tr>\n",
              "      <th>min</th>\n",
              "      <td>0.000000</td>\n",
              "      <td>1.000000</td>\n",
              "      <td>0.000000</td>\n",
              "      <td>0.010000</td>\n",
              "      <td>1.000000</td>\n",
              "      <td>0.000000</td>\n",
              "    </tr>\n",
              "    <tr>\n",
              "      <th>25%</th>\n",
              "      <td>49.000000</td>\n",
              "      <td>1.000000</td>\n",
              "      <td>1.000000</td>\n",
              "      <td>0.130000</td>\n",
              "      <td>1.000000</td>\n",
              "      <td>0.000000</td>\n",
              "    </tr>\n",
              "    <tr>\n",
              "      <th>50%</th>\n",
              "      <td>78.000000</td>\n",
              "      <td>2.000000</td>\n",
              "      <td>4.000000</td>\n",
              "      <td>0.380000</td>\n",
              "      <td>1.000000</td>\n",
              "      <td>85.000000</td>\n",
              "    </tr>\n",
              "    <tr>\n",
              "      <th>75%</th>\n",
              "      <td>120.000000</td>\n",
              "      <td>8.500000</td>\n",
              "      <td>19.000000</td>\n",
              "      <td>1.120000</td>\n",
              "      <td>4.000000</td>\n",
              "      <td>269.000000</td>\n",
              "    </tr>\n",
              "    <tr>\n",
              "      <th>max</th>\n",
              "      <td>13294.000000</td>\n",
              "      <td>11684.000000</td>\n",
              "      <td>638.000000</td>\n",
              "      <td>15.330000</td>\n",
              "      <td>110.000000</td>\n",
              "      <td>365.000000</td>\n",
              "    </tr>\n",
              "  </tbody>\n",
              "</table>\n",
              "</div>"
            ],
            "text/plain": [
              "              price  ...  availability_365\n",
              "count  13767.000000  ...      13767.000000\n",
              "mean     118.505339  ...        130.273698\n",
              "std      288.931405  ...        142.181803\n",
              "min        0.000000  ...          0.000000\n",
              "25%       49.000000  ...          0.000000\n",
              "50%       78.000000  ...         85.000000\n",
              "75%      120.000000  ...        269.000000\n",
              "max    13294.000000  ...        365.000000\n",
              "\n",
              "[8 rows x 6 columns]"
            ]
          },
          "metadata": {
            "tags": []
          },
          "execution_count": 7
        }
      ]
    },
    {
      "cell_type": "code",
      "metadata": {
        "colab": {
          "base_uri": "https://localhost:8080/",
          "height": 262
        },
        "id": "ETTzbl-YnFFD",
        "outputId": "28a889c5-39ec-4d6d-f047-58402808fe7c"
      },
      "source": [
        "df.minimum_nights.plot(kind='box', vert=False, figsize=(15,3))\r\n",
        "plt.show()\r\n",
        "\r\n",
        "q1_nights = df.minimum_nights.quantile(0.25)\r\n",
        "q3_nights = df.minimum_nights.quantile(0.75)\r\n",
        "limite_superior_minimum_nights = q3_nights + 1.5*(q3_nights - q1_nights)\r\n",
        "\r\n",
        "num_outiliers_minimum_nights = len(df[df.minimum_nights > \r\n",
        "                                          limite_superior_minimum_nights])\r\n",
        "\r\n",
        "print(f\"Outliers possuem valores de 'minimum_nights' acima de {limite_superior_minimum_nights}:\")\r\n",
        "print(f\"{num_outiliers_minimum_nights} entradas\")\r\n",
        "print(f'{num_outiliers_minimum_nights / df.shape[0]*100:.4f}%')"
      ],
      "execution_count": 8,
      "outputs": [
        {
          "output_type": "display_data",
          "data": {
            "image/png": "[encoded data removed]",
            "text/plain": [
              "<Figure size 1080x216 with 1 Axes>"
            ]
          },
          "metadata": {
            "tags": [],
            "needs_background": "light"
          }
        },
        {
          "output_type": "stream",
          "text": [
            "Outliers possuem valores de 'minimum_nights' acima de 19.75:\n",
            "2951 entradas\n",
            "21.4353%\n"
          ],
          "name": "stdout"
        }
      ]
    },
    {
      "cell_type": "code",
      "metadata": {
        "colab": {
          "base_uri": "https://localhost:8080/",
          "height": 262
        },
        "id": "DNMOGwY3r0Zt",
        "outputId": "a1f7e1ea-762a-455b-8d68-302478ff007f"
      },
      "source": [
        "df.price.plot(kind='box', vert=False, figsize=(15,3))\r\n",
        "plt.show()\r\n",
        "\r\n",
        "q1_price = df.price.quantile(0.25)\r\n",
        "q3_price = df.price.quantile(0.75)\r\n",
        "limite_superior_price = q3_price + 1.5*(q3_price - q1_price)\r\n",
        "\r\n",
        "num_outiliers_price = len(df[df.price > limite_superior_price])\r\n",
        "\r\n",
        "print(f\"Outliers possuem valores de 'price' acima de {limite_superior_price}:\")\r\n",
        "print(f\"{num_outiliers_price} entradas\")\r\n",
        "print(f'{num_outiliers_price / df.shape[0]*100:.4f}%')"
      ],
      "execution_count": 9,
      "outputs": [
        {
          "output_type": "display_data",
          "data": {
            "image/png": "[encoded data removed]",
            "text/plain": [
              "<Figure size 1080x216 with 1 Axes>"
            ]
          },
          "metadata": {
            "tags": [],
            "needs_background": "light"
          }
        },
        {
          "output_type": "stream",
          "text": [
            "Outliers possuem valores de 'price' acima de 226.5:\n",
            "998 entradas\n",
            "7.2492%\n"
          ],
          "name": "stdout"
        }
      ]
    },
    {
      "cell_type": "code",
      "metadata": {
        "colab": {
          "base_uri": "https://localhost:8080/",
          "height": 262
        },
        "id": "LkZjl_QNBizj",
        "outputId": "90300db0-bd0d-4048-9520-84c8bbb1f7ad"
      },
      "source": [
        "df.number_of_reviews.plot(kind='box', vert=False, figsize=(15,3))\r\n",
        "plt.show()\r\n",
        "\r\n",
        "q1_number_of_reviews = df.number_of_reviews.quantile(0.25)\r\n",
        "q3_number_of_reviews = df.number_of_reviews.quantile(0.75)\r\n",
        "limite_superior_number_of_reviews = q3_number_of_reviews + 1.5*(q3_number_of_reviews - q1_number_of_reviews)\r\n",
        "\r\n",
        "num_outiliers_number_of_reviews = len(df[df.number_of_reviews > limite_superior_number_of_reviews])\r\n",
        "\r\n",
        "print(f\"Outliers possuem valores de 'number_of_reviews' acima de {limite_superior_number_of_reviews}:\")\r\n",
        "print(f\"{num_outiliers_number_of_reviews} entradas\")\r\n",
        "print(f'{num_outiliers_number_of_reviews / df.shape[0]*100:.4f}%')"
      ],
      "execution_count": 10,
      "outputs": [
        {
          "output_type": "display_data",
          "data": {
            "image/png": "[encoded data removed]",
            "text/plain": [
              "<Figure size 1080x216 with 1 Axes>"
            ]
          },
          "metadata": {
            "tags": [],
            "needs_background": "light"
          }
        },
        {
          "output_type": "stream",
          "text": [
            "Outliers possuem valores de 'number_of_reviews' acima de 46.0:\n",
            "1762 entradas\n",
            "12.7987%\n"
          ],
          "name": "stdout"
        }
      ]
    },
    {
      "cell_type": "code",
      "metadata": {
        "colab": {
          "base_uri": "https://localhost:8080/",
          "height": 262
        },
        "id": "L0Y295AZCiL9",
        "outputId": "d6f3ac24-615b-44a0-980e-54610cf9eed4"
      },
      "source": [
        "df.reviews_per_month.plot(kind='box', vert=False, figsize=(15,3))\r\n",
        "plt.show()\r\n",
        "\r\n",
        "q1_reviews_per_month = df.reviews_per_month.quantile(0.25)\r\n",
        "q3_reviews_per_month = df.reviews_per_month.quantile(0.75)\r\n",
        "limite_superior_reviews_per_month = q3_reviews_per_month + 1.5*(q3_reviews_per_month - q1_reviews_per_month)\r\n",
        "\r\n",
        "num_outiliers_reviews_per_month = len(df[df.reviews_per_month > limite_superior_reviews_per_month])\r\n",
        "\r\n",
        "print(f\"Outliers possuem valores de 'reviews_per_month' acima de {limite_superior_reviews_per_month}:\")\r\n",
        "print(f\"{num_outiliers_reviews_per_month} entradas\")\r\n",
        "print(f'{num_outiliers_reviews_per_month / df.shape[0]*100:.4f}%')"
      ],
      "execution_count": 11,
      "outputs": [
        {
          "output_type": "display_data",
          "data": {
            "image/png": "[encoded data removed]",
            "text/plain": [
              "<Figure size 1080x216 with 1 Axes>"
            ]
          },
          "metadata": {
            "tags": [],
            "needs_background": "light"
          }
        },
        {
          "output_type": "stream",
          "text": [
            "Outliers possuem valores de 'reviews_per_month' acima de 2.6050000000000004:\n",
            "940 entradas\n",
            "6.8279%\n"
          ],
          "name": "stdout"
        }
      ]
    },
    {
      "cell_type": "markdown",
      "metadata": {
        "id": "azlST9YO9eX2"
      },
      "source": [
        "### **Limpando os dados**\r\n",
        "Neste momento iremos remover outliers e plotar novamente gráficos, o que nos dará uma noção melhor da distribuição de preços e mínimo de noites.\r\n",
        "\r\n",
        "Para fazer a remoção, vamos admitir como válidos apenas valores para estas variáveis que estão abaixo de $$Q3 + 1.5(Q3 - Q1)$$\r\n",
        "na qual Q1 e Q3 denotam primeiro e terceiro quantis, respectivamente. Além disso removeremos também os valores nulos para preço.\r\n",
        "\r\n",
        "Após a limpeza, já vemos que o preço máximo é de 226 e o número mínimo de noites é 19, valores bem mais aceitáveis."
      ]
    },
    {
      "cell_type": "code",
      "metadata": {
        "colab": {
          "base_uri": "https://localhost:8080/",
          "height": 607
        },
        "id": "0c5ZV6b69Jvi",
        "outputId": "bebde15e-29e9-40c1-ad5e-ebe70cfc906f"
      },
      "source": [
        "# removendo os outliers em um novo DataFrame\r\n",
        "df_clean = df.copy()\r\n",
        "df_clean.drop(df_clean[df_clean.minimum_nights > limite_superior_minimum_nights].index,\r\n",
        "              axis=0,\r\n",
        "              inplace=True)\r\n",
        "df_clean.drop(df_clean[df_clean.price > limite_superior_price].index,\r\n",
        "              axis=0,\r\n",
        "              inplace=True)\r\n",
        "df_clean.drop(df_clean[df_clean.price == 0].index,\r\n",
        "              axis=0,\r\n",
        "              inplace=True)\r\n",
        "\r\n",
        "\r\n",
        "# removendo 'neighbourhood_group'\r\n",
        "df_clean.drop('neighbourhood_group',\r\n",
        "              axis=1,\r\n",
        "              inplace=True)\r\n",
        "\r\n",
        "# plotando o histograma para as variáveis numéricas\r\n",
        "df_clean[['price', 'minimum_nights', 'number_of_reviews', 'reviews_per_month', \r\n",
        "    'calculated_host_listings_count', 'availability_365']].hist(bins=15, figsize=(15,10))\r\n",
        "plt.show()"
      ],
      "execution_count": 12,
      "outputs": [
        {
          "output_type": "display_data",
          "data": {
            "image/png": "[encoded data removed]",
            "text/plain": [
              "<Figure size 1080x720 with 6 Axes>"
            ]
          },
          "metadata": {
            "tags": [],
            "needs_background": "light"
          }
        }
      ]
    },
    {
      "cell_type": "code",
      "metadata": {
        "colab": {
          "base_uri": "https://localhost:8080/",
          "height": 297
        },
        "id": "zXwlV_tIC2p6",
        "outputId": "c12e0f9b-ec94-41e5-ac8d-6066c36ac89b"
      },
      "source": [
        "df_clean[['price', 'minimum_nights', 'number_of_reviews', 'reviews_per_month', \r\n",
        "    'calculated_host_listings_count', 'availability_365']].describe()"
      ],
      "execution_count": 13,
      "outputs": [
        {
          "output_type": "execute_result",
          "data": {
            "text/html": [
              "<div>\n",
              "<style scoped>\n",
              "    .dataframe tbody tr th:only-of-type {\n",
              "        vertical-align: middle;\n",
              "    }\n",
              "\n",
              "    .dataframe tbody tr th {\n",
              "        vertical-align: top;\n",
              "    }\n",
              "\n",
              "    .dataframe thead th {\n",
              "        text-align: right;\n",
              "    }\n",
              "</style>\n",
              "<table border=\"1\" class=\"dataframe\">\n",
              "  <thead>\n",
              "    <tr style=\"text-align: right;\">\n",
              "      <th></th>\n",
              "      <th>price</th>\n",
              "      <th>minimum_nights</th>\n",
              "      <th>number_of_reviews</th>\n",
              "      <th>reviews_per_month</th>\n",
              "      <th>calculated_host_listings_count</th>\n",
              "      <th>availability_365</th>\n",
              "    </tr>\n",
              "  </thead>\n",
              "  <tbody>\n",
              "    <tr>\n",
              "      <th>count</th>\n",
              "      <td>9943.000000</td>\n",
              "      <td>9943.000000</td>\n",
              "      <td>9943.000000</td>\n",
              "      <td>7911.000000</td>\n",
              "      <td>9943.000000</td>\n",
              "      <td>9943.000000</td>\n",
              "    </tr>\n",
              "    <tr>\n",
              "      <th>mean</th>\n",
              "      <td>83.144323</td>\n",
              "      <td>2.852560</td>\n",
              "      <td>22.066982</td>\n",
              "      <td>0.948812</td>\n",
              "      <td>5.071005</td>\n",
              "      <td>110.448255</td>\n",
              "    </tr>\n",
              "    <tr>\n",
              "      <th>std</th>\n",
              "      <td>47.197556</td>\n",
              "      <td>2.854302</td>\n",
              "      <td>47.611212</td>\n",
              "      <td>1.316348</td>\n",
              "      <td>11.073100</td>\n",
              "      <td>137.942760</td>\n",
              "    </tr>\n",
              "    <tr>\n",
              "      <th>min</th>\n",
              "      <td>13.000000</td>\n",
              "      <td>1.000000</td>\n",
              "      <td>0.000000</td>\n",
              "      <td>0.010000</td>\n",
              "      <td>1.000000</td>\n",
              "      <td>0.000000</td>\n",
              "    </tr>\n",
              "    <tr>\n",
              "      <th>25%</th>\n",
              "      <td>45.000000</td>\n",
              "      <td>1.000000</td>\n",
              "      <td>1.000000</td>\n",
              "      <td>0.120000</td>\n",
              "      <td>1.000000</td>\n",
              "      <td>0.000000</td>\n",
              "    </tr>\n",
              "    <tr>\n",
              "      <th>50%</th>\n",
              "      <td>75.000000</td>\n",
              "      <td>2.000000</td>\n",
              "      <td>5.000000</td>\n",
              "      <td>0.410000</td>\n",
              "      <td>1.000000</td>\n",
              "      <td>34.000000</td>\n",
              "    </tr>\n",
              "    <tr>\n",
              "      <th>75%</th>\n",
              "      <td>107.000000</td>\n",
              "      <td>3.000000</td>\n",
              "      <td>20.000000</td>\n",
              "      <td>1.210000</td>\n",
              "      <td>3.000000</td>\n",
              "      <td>180.000000</td>\n",
              "    </tr>\n",
              "    <tr>\n",
              "      <th>max</th>\n",
              "      <td>226.000000</td>\n",
              "      <td>19.000000</td>\n",
              "      <td>638.000000</td>\n",
              "      <td>15.330000</td>\n",
              "      <td>110.000000</td>\n",
              "      <td>365.000000</td>\n",
              "    </tr>\n",
              "  </tbody>\n",
              "</table>\n",
              "</div>"
            ],
            "text/plain": [
              "             price  ...  availability_365\n",
              "count  9943.000000  ...       9943.000000\n",
              "mean     83.144323  ...        110.448255\n",
              "std      47.197556  ...        137.942760\n",
              "min      13.000000  ...          0.000000\n",
              "25%      45.000000  ...          0.000000\n",
              "50%      75.000000  ...         34.000000\n",
              "75%     107.000000  ...        180.000000\n",
              "max     226.000000  ...        365.000000\n",
              "\n",
              "[8 rows x 6 columns]"
            ]
          },
          "metadata": {
            "tags": []
          },
          "execution_count": 13
        }
      ]
    },
    {
      "cell_type": "markdown",
      "metadata": {
        "id": "7x4aw1j5wNmn"
      },
      "source": [
        "### **Qual a média dos preços de aluguel?**\r\n",
        "\r\n",
        "Agora podemos calcular a média de preços de uma diária! Porém, saber que a média é 83.14 dólares canadenses, não nos diz muito sobre a localização e tipo dos imóveis e seus valores. A seguir faremos uma análise mais apurada neste sentido.\r\n"
      ]
    },
    {
      "cell_type": "code",
      "metadata": {
        "id": "ff-8gUahLk-C",
        "colab": {
          "base_uri": "https://localhost:8080/"
        },
        "outputId": "5fc06287-ad3b-42f7-89da-77fe78de478f"
      },
      "source": [
        "# ver a média da coluna `price``\n",
        "df_clean.price.mean()"
      ],
      "execution_count": 14,
      "outputs": [
        {
          "output_type": "execute_result",
          "data": {
            "text/plain": [
              "83.14432263904254"
            ]
          },
          "metadata": {
            "tags": []
          },
          "execution_count": 14
        }
      ]
    },
    {
      "cell_type": "markdown",
      "metadata": {
        "id": "IXn2oIo5qx-w"
      },
      "source": [
        "### **Qual a correlação existente entre as variáveis?**\r\n",
        "\r\n",
        "Correlação é uma ferramenta estatistica utilizada para verificar se existe uma relação linear entre duas variáveis, atribuindo um número real de -1 à 1, chamado de coeficiente de correlação, de maneira que -1 e 1 significam que as variáveis são perfeitamente correlacionadas e 0 siginifica que não existe correlação.\r\n",
        "\r\n",
        "Verificamos desta forma que as únicas variáveis númericas possivelmente correlacionadas são *reviews_per_month* e *number_of_reviews*, com coeficiente de correlação 0.75, o que faz total sentido considerando que imoveis com uma maior taxa de reviews tende a ter um maior número."
      ]
    },
    {
      "cell_type": "code",
      "metadata": {
        "id": "x2ayzBajqxyd",
        "colab": {
          "base_uri": "https://localhost:8080/",
          "height": 235
        },
        "outputId": "f6d4c61d-7453-42da-b55b-37ecdc757759"
      },
      "source": [
        "# criar uma matriz de correlação\n",
        "corr = df_clean[['price', 'minimum_nights', 'number_of_reviews', 'reviews_per_month', \n",
        "    'calculated_host_listings_count', 'availability_365']].corr()\n",
        "# mostrar a matriz de correlação\n",
        "display(corr)"
      ],
      "execution_count": 15,
      "outputs": [
        {
          "output_type": "display_data",
          "data": {
            "text/html": [
              "<div>\n",
              "<style scoped>\n",
              "    .dataframe tbody tr th:only-of-type {\n",
              "        vertical-align: middle;\n",
              "    }\n",
              "\n",
              "    .dataframe tbody tr th {\n",
              "        vertical-align: top;\n",
              "    }\n",
              "\n",
              "    .dataframe thead th {\n",
              "        text-align: right;\n",
              "    }\n",
              "</style>\n",
              "<table border=\"1\" class=\"dataframe\">\n",
              "  <thead>\n",
              "    <tr style=\"text-align: right;\">\n",
              "      <th></th>\n",
              "      <th>price</th>\n",
              "      <th>minimum_nights</th>\n",
              "      <th>number_of_reviews</th>\n",
              "      <th>reviews_per_month</th>\n",
              "      <th>calculated_host_listings_count</th>\n",
              "      <th>availability_365</th>\n",
              "    </tr>\n",
              "  </thead>\n",
              "  <tbody>\n",
              "    <tr>\n",
              "      <th>price</th>\n",
              "      <td>1.000000</td>\n",
              "      <td>0.016718</td>\n",
              "      <td>0.059296</td>\n",
              "      <td>0.045437</td>\n",
              "      <td>0.127016</td>\n",
              "      <td>0.144085</td>\n",
              "    </tr>\n",
              "    <tr>\n",
              "      <th>minimum_nights</th>\n",
              "      <td>0.016718</td>\n",
              "      <td>1.000000</td>\n",
              "      <td>-0.075874</td>\n",
              "      <td>-0.145010</td>\n",
              "      <td>-0.066802</td>\n",
              "      <td>-0.025844</td>\n",
              "    </tr>\n",
              "    <tr>\n",
              "      <th>number_of_reviews</th>\n",
              "      <td>0.059296</td>\n",
              "      <td>-0.075874</td>\n",
              "      <td>1.000000</td>\n",
              "      <td>0.749493</td>\n",
              "      <td>0.056192</td>\n",
              "      <td>0.127688</td>\n",
              "    </tr>\n",
              "    <tr>\n",
              "      <th>reviews_per_month</th>\n",
              "      <td>0.045437</td>\n",
              "      <td>-0.145010</td>\n",
              "      <td>0.749493</td>\n",
              "      <td>1.000000</td>\n",
              "      <td>0.169110</td>\n",
              "      <td>0.183111</td>\n",
              "    </tr>\n",
              "    <tr>\n",
              "      <th>calculated_host_listings_count</th>\n",
              "      <td>0.127016</td>\n",
              "      <td>-0.066802</td>\n",
              "      <td>0.056192</td>\n",
              "      <td>0.169110</td>\n",
              "      <td>1.000000</td>\n",
              "      <td>0.242500</td>\n",
              "    </tr>\n",
              "    <tr>\n",
              "      <th>availability_365</th>\n",
              "      <td>0.144085</td>\n",
              "      <td>-0.025844</td>\n",
              "      <td>0.127688</td>\n",
              "      <td>0.183111</td>\n",
              "      <td>0.242500</td>\n",
              "      <td>1.000000</td>\n",
              "    </tr>\n",
              "  </tbody>\n",
              "</table>\n",
              "</div>"
            ],
            "text/plain": [
              "                                   price  ...  availability_365\n",
              "price                           1.000000  ...          0.144085\n",
              "minimum_nights                  0.016718  ...         -0.025844\n",
              "number_of_reviews               0.059296  ...          0.127688\n",
              "reviews_per_month               0.045437  ...          0.183111\n",
              "calculated_host_listings_count  0.127016  ...          0.242500\n",
              "availability_365                0.144085  ...          1.000000\n",
              "\n",
              "[6 rows x 6 columns]"
            ]
          },
          "metadata": {
            "tags": []
          }
        }
      ]
    },
    {
      "cell_type": "code",
      "metadata": {
        "id": "91UujDr6ueqE",
        "colab": {
          "base_uri": "https://localhost:8080/",
          "height": 411
        },
        "outputId": "94c812bb-559f-43e6-d9e0-166474fdebc4"
      },
      "source": [
        "# plotar um heatmap a partir das correlações\n",
        "sns.heatmap(corr, cmap='RdBu', fmt='.2f', square=True, linecolor='white', annot=True);"
      ],
      "execution_count": 16,
      "outputs": [
        {
          "output_type": "display_data",
          "data": {
            "image/png": "[encoded data removed]",
            "text/plain": [
              "<Figure size 432x288 with 2 Axes>"
            ]
          },
          "metadata": {
            "tags": [],
            "needs_background": "light"
          }
        }
      ]
    },
    {
      "cell_type": "markdown",
      "metadata": {
        "id": "7b6RMWpuHKN-"
      },
      "source": [
        "### **Qual o tipo de imóvel mais alugado no Airbnb?**\r\n",
        "\r\n",
        "Com relação ao tipo de quarto, temos 4 categorias, de forma que casas ou apartamentos inteiros e quartos privados são predominantes, com aproximadamente 66.46% e 32% do total.\r\n",
        "\r\n",
        "Podemos verificar tambem que quartos privados possui uma média de valor bem abaixo da média total, e casas ou apartamentos inteiros, um pouco acima."
      ]
    },
    {
      "cell_type": "code",
      "metadata": {
        "id": "ueLPNWvPHgfB",
        "colab": {
          "base_uri": "https://localhost:8080/"
        },
        "outputId": "ea628cd2-ea58-40e5-bdff-260574992942"
      },
      "source": [
        "# mostrar a quantidade de cada tipo de imóvel disponível\n",
        "df_clean.room_type.value_counts()"
      ],
      "execution_count": 17,
      "outputs": [
        {
          "output_type": "execute_result",
          "data": {
            "text/plain": [
              "Entire home/apt    6608\n",
              "Private room       3185\n",
              "Shared room          96\n",
              "Hotel room           54\n",
              "Name: room_type, dtype: int64"
            ]
          },
          "metadata": {
            "tags": []
          },
          "execution_count": 17
        }
      ]
    },
    {
      "cell_type": "code",
      "metadata": {
        "id": "EvwoO-XAHhIm",
        "colab": {
          "base_uri": "https://localhost:8080/"
        },
        "outputId": "d6b6198c-cabc-4415-f149-0606c0cc3b7a"
      },
      "source": [
        "# mostrar a porcentagem de cada tipo de imóvel disponível\n",
        "df_clean.room_type.value_counts() /df_clean.shape[0]"
      ],
      "execution_count": 18,
      "outputs": [
        {
          "output_type": "execute_result",
          "data": {
            "text/plain": [
              "Entire home/apt    0.664588\n",
              "Private room       0.320326\n",
              "Shared room        0.009655\n",
              "Hotel room         0.005431\n",
              "Name: room_type, dtype: float64"
            ]
          },
          "metadata": {
            "tags": []
          },
          "execution_count": 18
        }
      ]
    },
    {
      "cell_type": "code",
      "metadata": {
        "colab": {
          "base_uri": "https://localhost:8080/"
        },
        "id": "17XjCXy6-jgN",
        "outputId": "23c7cb09-2346-48a5-b031-630546b8b92a"
      },
      "source": [
        "tipo_de_quarto = df_clean.groupby(['room_type']).price.mean()\r\n",
        "tipo_de_quarto"
      ],
      "execution_count": 19,
      "outputs": [
        {
          "output_type": "execute_result",
          "data": {
            "text/plain": [
              "room_type\n",
              "Entire home/apt     98.412833\n",
              "Hotel room         111.907407\n",
              "Private room        52.204396\n",
              "Shared room         42.479167\n",
              "Name: price, dtype: float64"
            ]
          },
          "metadata": {
            "tags": []
          },
          "execution_count": 19
        }
      ]
    },
    {
      "cell_type": "markdown",
      "metadata": {
        "id": "MFa5NbnLJMcd"
      },
      "source": [
        "### **Qual a localidade mais cara do dataset?**\n",
        "\n",
        "Naturalmente nos perguntamos qual a região mais barata. Dito isto, fazendo uma análise do preço médio e do número de imóveis de cada bairro, vemos que alguns valores atrapalham a nossa análise. Por exemplo, o bairro *Montréal-Est* é o segundo mais caro, em média, porém possui apenas 3 imóveis, assim como *Kirkland*, o quarto com maior preço médio.\n",
        "\n",
        "Utilizando um gráfico de dispersão, vemos que a maioria dos imóveis estão localizados na região central de Montreal Além disso, os dois barros comentados acima estão mais afastados, o que nos sugere a necessidade de uma análise mais apurada, excluindo locais com poucas propriedades."
      ]
    },
    {
      "cell_type": "code",
      "metadata": {
        "id": "MD_xa143JZpi",
        "colab": {
          "base_uri": "https://localhost:8080/"
        },
        "outputId": "899220b4-8af6-4b5d-c728-3c0819cccf37"
      },
      "source": [
        "# ver preços por bairros, na média\n",
        "preco_medio_por_distrito = df_clean.groupby(['neighbourhood']).price.mean()\n",
        "preco_medio_por_distrito.sort_values(ascending=False)[:10]"
      ],
      "execution_count": 20,
      "outputs": [
        {
          "output_type": "execute_result",
          "data": {
            "text/plain": [
              "neighbourhood\n",
              "Côte-Saint-Luc    108.222222\n",
              "Montréal-Est      107.000000\n",
              "Westmount          99.735294\n",
              "Kirkland           99.333333\n",
              "Hampstead          97.600000\n",
              "Le Sud-Ouest       93.544326\n",
              "Ville-Marie        91.977630\n",
              "Mont-Royal         90.956522\n",
              "Outremont          87.680672\n",
              "Montréal-Ouest     86.800000\n",
              "Name: price, dtype: float64"
            ]
          },
          "metadata": {
            "tags": []
          },
          "execution_count": 20
        }
      ]
    },
    {
      "cell_type": "code",
      "metadata": {
        "colab": {
          "base_uri": "https://localhost:8080/"
        },
        "id": "Mk-WjarzexOq",
        "outputId": "e8db1147-e046-448e-ff73-3c98885ad635"
      },
      "source": [
        "# número de imóveis por bairro\r\n",
        "num_imoveis_por_distrito = df_clean.groupby(['neighbourhood']).name.count()\r\n",
        "num_imoveis_por_distrito.sort_values(ascending=False)"
      ],
      "execution_count": 21,
      "outputs": [
        {
          "output_type": "execute_result",
          "data": {
            "text/plain": [
              "neighbourhood\n",
              "Le Plateau-Mont-Royal                       2680\n",
              "Ville-Marie                                 2548\n",
              "Rosemont-La Petite-Patrie                   1004\n",
              "Côte-des-Neiges-Notre-Dame-de-Grâce          776\n",
              "Le Sud-Ouest                                 564\n",
              "Villeray-Saint-Michel-Parc-Extension         556\n",
              "Mercier-Hochelaga-Maisonneuve                537\n",
              "Verdun                                       237\n",
              "Ahuntsic-Cartierville                        187\n",
              "Outremont                                    119\n",
              "Saint-Laurent                                107\n",
              "LaSalle                                       89\n",
              "Westmount                                     68\n",
              "Lachine                                       57\n",
              "Saint-Léonard                                 53\n",
              "Rivière-des-Prairies-Pointe-aux-Trembles      46\n",
              "Montréal-Nord                                 45\n",
              "Pointe-Claire                                 40\n",
              "Côte-Saint-Luc                                36\n",
              "Pierrefonds-Roxboro                           33\n",
              "Anjou                                         32\n",
              "Dorval                                        28\n",
              "Dollard-des-Ormeaux                           25\n",
              "Mont-Royal                                    23\n",
              "L'Île-Bizard-Sainte-Geneviève                 13\n",
              "Montréal-Ouest                                10\n",
              "Beaconsfield                                   6\n",
              "Hampstead                                      5\n",
              "Montréal-Est                                   3\n",
              "Kirkland                                       3\n",
              "Senneville                                     2\n",
              "Sainte-Anne-de-Bellevue                        2\n",
              "Baie-d'Urfé                                    1\n",
              "Name: name, dtype: int64"
            ]
          },
          "metadata": {
            "tags": []
          },
          "execution_count": 21
        }
      ]
    },
    {
      "cell_type": "code",
      "metadata": {
        "id": "UxVJqJ_3W59I",
        "colab": {
          "base_uri": "https://localhost:8080/",
          "height": 471
        },
        "outputId": "ce5f2d46-2906-4f54-dfa2-9e2ca7f17db6"
      },
      "source": [
        "# plotar os imóveis pela latitude-longitude\n",
        "df_clean.plot(kind='scatter', x='longitude', y='latitude', alpha=0.4, c=df_clean['price'],\n",
        "              s=8, cmap=plt.get_cmap('jet'), figsize=(12,8));"
      ],
      "execution_count": 22,
      "outputs": [
        {
          "output_type": "display_data",
          "data": {
            "image/png": "[encoded data removed]",
            "text/plain": [
              "<Figure size 864x576 with 2 Axes>"
            ]
          },
          "metadata": {
            "tags": [],
            "needs_background": "light"
          }
        }
      ]
    },
    {
      "cell_type": "markdown",
      "metadata": {
        "id": "kjahszenL0q0"
      },
      "source": [
        "Deixando de lado 25% dos bairros com menos imóveis, concluímos que os sete bairros mais caros, com aproximadamente 60% dos imóveis totais, são regiões centrais, com exceção talvez do primeiro colocado, que por sua vez possui apenas 36 propriedades.\r\n",
        "\r\n",
        "Além disso, o sétimo bairro mais caro possui média de preço praticamente igual à média do total.\r\n",
        "\r\n",
        "Podemos dizer que as localidades mais caras são *Côte-Saint-Luc* e *Westmount*,  possuindo juntas 104 pripriedades, seguidas de *Le Sud-Ouest* e *Ville-Marie*, com 3102."
      ]
    },
    {
      "cell_type": "code",
      "metadata": {
        "id": "Os5dkPCVOVl5"
      },
      "source": [
        "bairros = pd.DataFrame(data={'name' : preco_medio_por_distrito.index, \r\n",
        "                               'neighbourhood_mean_price' : preco_medio_por_distrito.values, \r\n",
        "                               'number_of_properties' : num_imoveis_por_distrito.values})"
      ],
      "execution_count": 23,
      "outputs": []
    },
    {
      "cell_type": "code",
      "metadata": {
        "colab": {
          "base_uri": "https://localhost:8080/",
          "height": 266
        },
        "id": "btJCXHnXpau3",
        "outputId": "7d87cc88-abe0-4215-bc67-1e5470b2bfcf"
      },
      "source": [
        "quartil = bairros.number_of_properties.quantile(0.25)\r\n",
        "quartil\r\n",
        "\r\n",
        "bairros_reduzido = bairros.copy()\r\n",
        "bairros_reduzido.drop(bairros[bairros.number_of_properties <= quartil].index,\r\n",
        "              axis=0,\r\n",
        "              inplace=True)\r\n",
        "\r\n",
        "bairros_reduzido.sort_values('neighbourhood_mean_price', ascending=False)[:7]\r\n"
      ],
      "execution_count": 24,
      "outputs": [
        {
          "output_type": "execute_result",
          "data": {
            "text/html": [
              "<div>\n",
              "<style scoped>\n",
              "    .dataframe tbody tr th:only-of-type {\n",
              "        vertical-align: middle;\n",
              "    }\n",
              "\n",
              "    .dataframe tbody tr th {\n",
              "        vertical-align: top;\n",
              "    }\n",
              "\n",
              "    .dataframe thead th {\n",
              "        text-align: right;\n",
              "    }\n",
              "</style>\n",
              "<table border=\"1\" class=\"dataframe\">\n",
              "  <thead>\n",
              "    <tr style=\"text-align: right;\">\n",
              "      <th></th>\n",
              "      <th>name</th>\n",
              "      <th>neighbourhood_mean_price</th>\n",
              "      <th>number_of_properties</th>\n",
              "    </tr>\n",
              "  </thead>\n",
              "  <tbody>\n",
              "    <tr>\n",
              "      <th>4</th>\n",
              "      <td>Côte-Saint-Luc</td>\n",
              "      <td>108.222222</td>\n",
              "      <td>36</td>\n",
              "    </tr>\n",
              "    <tr>\n",
              "      <th>32</th>\n",
              "      <td>Westmount</td>\n",
              "      <td>99.735294</td>\n",
              "      <td>68</td>\n",
              "    </tr>\n",
              "    <tr>\n",
              "      <th>14</th>\n",
              "      <td>Le Sud-Ouest</td>\n",
              "      <td>93.544326</td>\n",
              "      <td>564</td>\n",
              "    </tr>\n",
              "    <tr>\n",
              "      <th>30</th>\n",
              "      <td>Ville-Marie</td>\n",
              "      <td>91.977630</td>\n",
              "      <td>2548</td>\n",
              "    </tr>\n",
              "    <tr>\n",
              "      <th>16</th>\n",
              "      <td>Mont-Royal</td>\n",
              "      <td>90.956522</td>\n",
              "      <td>23</td>\n",
              "    </tr>\n",
              "    <tr>\n",
              "      <th>20</th>\n",
              "      <td>Outremont</td>\n",
              "      <td>87.680672</td>\n",
              "      <td>119</td>\n",
              "    </tr>\n",
              "    <tr>\n",
              "      <th>13</th>\n",
              "      <td>Le Plateau-Mont-Royal</td>\n",
              "      <td>83.929236</td>\n",
              "      <td>2680</td>\n",
              "    </tr>\n",
              "  </tbody>\n",
              "</table>\n",
              "</div>"
            ],
            "text/plain": [
              "                     name  neighbourhood_mean_price  number_of_properties\n",
              "4          Côte-Saint-Luc                108.222222                    36\n",
              "32              Westmount                 99.735294                    68\n",
              "14           Le Sud-Ouest                 93.544326                   564\n",
              "30            Ville-Marie                 91.977630                  2548\n",
              "16             Mont-Royal                 90.956522                    23\n",
              "20              Outremont                 87.680672                   119\n",
              "13  Le Plateau-Mont-Royal                 83.929236                  2680"
            ]
          },
          "metadata": {
            "tags": []
          },
          "execution_count": 24
        }
      ]
    },
    {
      "cell_type": "code",
      "metadata": {
        "colab": {
          "base_uri": "https://localhost:8080/"
        },
        "id": "XNOO81a2Mws4",
        "outputId": "3f6395d2-760a-438b-aff1-750312231364"
      },
      "source": [
        "top = bairros_reduzido.sort_values('neighbourhood_mean_price', ascending=False).number_of_properties[:7].sum()\r\n",
        "\r\n",
        "print(f'Número de imóveis no top 7 valores mais altos: {top}')\r\n",
        "print(f'Porcentagem: {top/df_clean.shape[0]*100:.2f}%')\r\n"
      ],
      "execution_count": 25,
      "outputs": [
        {
          "output_type": "stream",
          "text": [
            "Número de imóveis no top 7 valores mais altos: 6038\n",
            "Porcentagem: 60.73%\n"
          ],
          "name": "stdout"
        }
      ]
    },
    {
      "cell_type": "markdown",
      "metadata": {
        "id": "vTneAMRUYvr1"
      },
      "source": [
        "### **Qual é a média do mínimo de noites para aluguel?**\r\n",
        "Para terminar a nossa análise, vemos que a média do número mínimo de noites a se alugar é 2.85, o que poderia estar relacionado a um final de semana."
      ]
    },
    {
      "cell_type": "code",
      "metadata": {
        "id": "_VzNhrEgY82N",
        "colab": {
          "base_uri": "https://localhost:8080/"
        },
        "outputId": "fde902da-63d9-4e2c-d96e-4510745b778f"
      },
      "source": [
        "# ver a média da coluna `minimum_nights``\r\n",
        "df_clean.minimum_nights.mean()"
      ],
      "execution_count": 26,
      "outputs": [
        {
          "output_type": "execute_result",
          "data": {
            "text/plain": [
              "2.8525595896610683"
            ]
          },
          "metadata": {
            "tags": []
          },
          "execution_count": 26
        }
      ]
    },
    {
      "cell_type": "markdown",
      "metadata": {
        "id": "GkvAg623RjoR"
      },
      "source": [
        "## Conclusões\n"
      ]
    },
    {
      "cell_type": "markdown",
      "metadata": {
        "id": "rbZ3Hsy9Ypw8"
      },
      "source": [
        "Vemos que a região central de Montreal, nos arredores do Monte Royal, monte que deu origem ao nome da cidade, localizado dentro do Parque Monte Royal e sendo uma das princípais atrações turísticas, possui a maioria dos imóveis e os mais caros, com pequenas exceções. Podemos notar que os bairros *Ville-Marie*, que inclui o parque, e *Le Plateau-Mont-Royal*, adjacente ao primeiro, possuem juntos mais da metade dos imóveis levados em consideração para esta análise com preços médios próximo ou um pouco acima da média total."
      ]
    }
  ]
}
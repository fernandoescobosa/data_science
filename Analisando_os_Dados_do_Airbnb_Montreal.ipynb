{
  "nbformat": 4,
  "nbformat_minor": 0,
  "metadata": {
    "colab": {
      "name": "Analisando os Dados do Airbnb - Montreal.ipynb",
      "provenance": [],
      "collapsed_sections": [],
      "include_colab_link": true
    },
    "kernelspec": {
      "name": "python3",
      "display_name": "Python 3"
    }
  },
  "cells": [
    {
      "cell_type": "markdown",
      "metadata": {
        "id": "view-in-github",
        "colab_type": "text"
      },
      "source": [
        "<a href=\"https://colab.research.google.com/github/fernandoescobosa/data_science/blob/main/Analisando_os_Dados_do_Airbnb_Montreal.ipynb\" target=\"_parent\"><img src=\"https://colab.research.google.com/assets/colab-badge.svg\" alt=\"Open In Colab\"/></a>"
      ]
    },
    {
      "cell_type": "markdown",
      "metadata": {
        "id": "kLI0gJtzDGuQ"
      },
      "source": [
        "\n",
        "# Análise dos Dados do Airbnb - *Montreal*\n",
        "\n",
        "<center><img alt=\"Analisando Airbnb\" width=\"30%\" src=\"https://www.area360.com.au/wp-content/uploads/2017/09/airbnb-logo.jpg\"></center>\n",
        "\n",
        "O [Airbnb](https://www.airbnb.com.br/), startup fundada em 2008, tem como objetivo conectar pessoas que querem viajar e se hospedar com anfitriões que queiram alugar seus imóveis. Air, Bed and Breakfast são as palavras que juntas compõem seu nome. \n",
        "\n",
        "Trazendo a simplicidade e a praticidade, até o fim de 2020 o Airbnb já havia hospedado mais de **800 milhões de pessoas** ao redor do mundo, dentre os mais de **220 países e regiões** que utilizam seu serviço. Além disso, já possuía mais de **4 milhões de anfitriões** que anunciavam, gratuitamente, seus imóveis e acomodações.\n",
        "\n",
        "Uma das iniciativas do Airbnb é disponibilizar dados do site para algumas das principais cidades do mundo. Por meio do portal [Inside Airbnb](http://insideairbnb.com/get-the-data.html), é possível baixar uma grande quantidade de dados para desenvolver projetos e soluções de *Data Science*.\n",
        "\n",
        "\n",
        "<center><img alt=\"Montreal\" width=\"60%\" src=\"https://etacanadavisa.com.br/main/wp-content/uploads/2019/04//1556403596_image2-830x381.jpg\"></center>\n",
        "\n",
        "**Neste *notebook* iremos analisar os dados referentes à cidade Montreal, no Canadá, e ver quais insights podem ser extraídos a partir de dados brutos.**\n",
        "\n",
        "## Um pouco sobre Montreal\n",
        "\n",
        "Montreal é a maior cidade da província de Québec e a segunda mais populosa do Canadá. Seu nome é uma homenagem ao Monte Royal, localizado no centro da cidade dentro do Parque Mont Royal. \n",
        "\n",
        "O idioma oficial da cidade é o francês, o que a faz ser a segunda maior cidade francófona do mundo, ficando atrás apenas de Paris. Entretanto, boa parte da população também sabe o inglês e alguns bairros até possuem esta última como língua predominante. Juntamente com o fato de possuir renomadas Universidades, como a McGill University, estes são fatores que colaboram para que Montreal seja uma cidade bastante procurada por estudantes em busca de intercâmbio.\n",
        "\n",
        "Trazendo um grande contexto histórico, como por exemplo o de ter sido até 1970 a capital comercial do país, quando foi ultrapassada por Toronto, Montreal possui diversos pontos turísticos para os mais variados gostos. Além do já citado Monte Royal, podemos também pontuar a região de Old Montréal, com construções que datam dos séculos 17, 18 e 19 e atrações como a Basílica de Notre-Dame e o Old Port. O parque Jean Drapeau, o Jardim Botânico, a Praça das Artes e muitos outros pontos turísticos repletos de exposições, festivais e atividades tornam a cidade excelente destino para qualquer viajante.\n",
        "\n",
        "<center><img alt=\"Basílica de Notre Dame\" width=\"40%\" src=\"https://media2.trover.com/T/5930d972ad412a1812001157/fixedw.jpg\"></center>\n",
        "\n",
        "Ao analisar os dados do Airbnb em Montreal vale a pena levar em consideração o contexto das dificuldades que a cidade enfrenta com relação à plataforma, como por exemplo: condomínios com mais de 20% dos imóveis alugados via Airbnb pelos seus hóspedes, a queda no mercado de aluguéis e as chamadas party houses. Por estes e outros motivos, medidas foram tomadas pelo governo local como um processo de registro para obtenção de permissão para alugar pelo Airbnb por menos de 31 dias, aprovação de donos de condomínios e a restrição em bairros de grande concentração como Ville-Marie e Plateau-Mont-Royal em que só se poderia haver listagens do Airbnb em determinadas zonas.\n",
        "\n",
        "Para começar nossa análise vale um último comentário que nos indica a importância de estudar os dados desta cidade em específico: Apesar das regras citadas acima, dentre outras, de 10 dos bairros de maior concentração de aluguéis pelo Airbnb no Canadá, 5 se encontram em Montreal.\n"
      ]
    },
    {
      "cell_type": "markdown",
      "metadata": {
        "id": "0zxQHhIUDF_2"
      },
      "source": [
        "## Obtenção dos Dados\n",
        "\n",
        "Começaremos importanto as bibliotecas que serão utilizadas para o desenvolvimento deste projeto\n",
        "\n",
        "* [**pandas**](https://pandas.pydata.org/): ferramenta open source para manipulação e análise de dados\n",
        "* [**matplotlib**](https://matplotlib.org/): biblioteca para a criação de visualizações estáticas, animadas e interativas em Python.\n",
        "* [**seaborn**](https://seaborn.pydata.org/): biblioteca que fornece uma interface de alto nível para desenhar gráficos estatísticos atraentes e informativos, baseada em matplotlib.\n",
        "\n",
        "Os dados utilizados neste projeto foram obtidos em [Inside Airbnb](http://insideairbnb.com/get-the-data.html). Mais precisamente, utilizaremos os dados listings.csv de Montreal que contém informações resumidas e métricas para listagens."
      ]
    },
    {
      "cell_type": "code",
      "metadata": {
        "id": "Vhp2wMPgJ6zX"
      },
      "source": [
        "import pandas as pd\n",
        "import matplotlib.pyplot as plt\n",
        "import seaborn as sns\n",
        "\n",
        "%matplotlib inline"
      ],
      "execution_count": 1,
      "outputs": []
    },
    {
      "cell_type": "code",
      "metadata": {
        "id": "tUmoAT8DLQ5T"
      },
      "source": [
        "df = pd.read_csv(\"http://data.insideairbnb.com/canada/qc/montreal/2020-12-18/visualisations/listings.csv\")"
      ],
      "execution_count": 2,
      "outputs": []
    },
    {
      "cell_type": "markdown",
      "metadata": {
        "id": "ZpzoTznT2NGv"
      },
      "source": [
        "A partir destes dados vamos tentar responder à algumas perguntas:\r\n",
        "\r\n",
        "1. Qual é a média de preços para a cidade de Montreal?\r\n",
        "2. Existe alguma relação entre as variáveis?\r\n",
        "3. Qual o tipo de imóvel mais alugado no Airbnb?\r\n",
        "4. Qual é o bairro ou localidade mais caro? \r\n",
        "5. Existem anfitriões com muitas propriedades?\r\n",
        "\r\n"
      ]
    },
    {
      "cell_type": "markdown",
      "metadata": {
        "id": "qb5By2nIMS6m"
      },
      "source": [
        "## Análise Exploratória\n",
        "Iniciaremos agora a etapa de analise exploratória. Antes de qualquer coisa, precisamos ententer como os dados estão estruturados, e para isso criaremos um dicionário das variáveis."
      ]
    },
    {
      "cell_type": "markdown",
      "metadata": {
        "id": "RYgvuebKNg8-"
      },
      "source": [
        "**Dicionário das variáveis**\n",
        "\n",
        "* id - número de id usado para identificar o imóvel\n",
        "* name - nome do imóvel no anúncio\n",
        "* host_id - número de id usado para identificar o anfitrião\n",
        "* host_name - nome do anfitrião\n",
        "* neighbourhood_group - apenas valores ausentes\n",
        "* neighbourhood - nome do bairro\n",
        "* latitude - coordenada da latitude\n",
        "* longitude - coordenada da longitude\n",
        "* room_type - tipo de dormitório, como por exemplo quarto privado ou casa inteira\n",
        "* price - preço\n",
        "* minimum_nights - mínimo de noites para hospedagem\n",
        "* number_of_reviews - número de reviews que o imóvel já recebeu\n",
        "* last_review - data da última review que o imóvel recebeu\n",
        "* reviews_per_month - média de reviews recebidas por mês\n",
        "* calculated_host_listings_count - número de imóveis que o mesmo anfitrião possui\n",
        "* availability_365 - número de dias disponiveis dentro do período de 365 dias\n",
        "\n",
        "Vamos dar uma olhada nas primeiras 5 entradas do nosso conjunto de dados, ou *dataset*."
      ]
    },
    {
      "cell_type": "code",
      "metadata": {
        "id": "2iS_dae7YQtO",
        "colab": {
          "base_uri": "https://localhost:8080/",
          "height": 326
        },
        "outputId": "e94ec90b-282e-4860-b459-9b1ac085376a"
      },
      "source": [
        "df.head(5)"
      ],
      "execution_count": 3,
      "outputs": [
        {
          "output_type": "execute_result",
          "data": {
            "text/html": [
              "<div>\n",
              "<style scoped>\n",
              "    .dataframe tbody tr th:only-of-type {\n",
              "        vertical-align: middle;\n",
              "    }\n",
              "\n",
              "    .dataframe tbody tr th {\n",
              "        vertical-align: top;\n",
              "    }\n",
              "\n",
              "    .dataframe thead th {\n",
              "        text-align: right;\n",
              "    }\n",
              "</style>\n",
              "<table border=\"1\" class=\"dataframe\">\n",
              "  <thead>\n",
              "    <tr style=\"text-align: right;\">\n",
              "      <th></th>\n",
              "      <th>id</th>\n",
              "      <th>name</th>\n",
              "      <th>host_id</th>\n",
              "      <th>host_name</th>\n",
              "      <th>neighbourhood_group</th>\n",
              "      <th>neighbourhood</th>\n",
              "      <th>latitude</th>\n",
              "      <th>longitude</th>\n",
              "      <th>room_type</th>\n",
              "      <th>price</th>\n",
              "      <th>minimum_nights</th>\n",
              "      <th>number_of_reviews</th>\n",
              "      <th>last_review</th>\n",
              "      <th>reviews_per_month</th>\n",
              "      <th>calculated_host_listings_count</th>\n",
              "      <th>availability_365</th>\n",
              "    </tr>\n",
              "  </thead>\n",
              "  <tbody>\n",
              "    <tr>\n",
              "      <th>0</th>\n",
              "      <td>2078</td>\n",
              "      <td>Central comfy close to Metro Laurie</td>\n",
              "      <td>2277</td>\n",
              "      <td>Nelia</td>\n",
              "      <td>NaN</td>\n",
              "      <td>Le Plateau-Mont-Royal</td>\n",
              "      <td>45.53069</td>\n",
              "      <td>-73.58588</td>\n",
              "      <td>Private room</td>\n",
              "      <td>38</td>\n",
              "      <td>2</td>\n",
              "      <td>245</td>\n",
              "      <td>2018-09-23</td>\n",
              "      <td>2.16</td>\n",
              "      <td>1</td>\n",
              "      <td>0</td>\n",
              "    </tr>\n",
              "    <tr>\n",
              "      <th>1</th>\n",
              "      <td>29059</td>\n",
              "      <td>Lovely studio Quartier Latin</td>\n",
              "      <td>125031</td>\n",
              "      <td>Maryline</td>\n",
              "      <td>NaN</td>\n",
              "      <td>Ville-Marie</td>\n",
              "      <td>45.51939</td>\n",
              "      <td>-73.56482</td>\n",
              "      <td>Entire home/apt</td>\n",
              "      <td>169</td>\n",
              "      <td>2</td>\n",
              "      <td>330</td>\n",
              "      <td>2020-10-27</td>\n",
              "      <td>2.58</td>\n",
              "      <td>2</td>\n",
              "      <td>350</td>\n",
              "    </tr>\n",
              "    <tr>\n",
              "      <th>2</th>\n",
              "      <td>29061</td>\n",
              "      <td>Maison historique - Quartier Latin</td>\n",
              "      <td>125031</td>\n",
              "      <td>Maryline</td>\n",
              "      <td>NaN</td>\n",
              "      <td>Ville-Marie</td>\n",
              "      <td>45.51929</td>\n",
              "      <td>-73.56493</td>\n",
              "      <td>Entire home/apt</td>\n",
              "      <td>248</td>\n",
              "      <td>3</td>\n",
              "      <td>69</td>\n",
              "      <td>2020-11-01</td>\n",
              "      <td>0.64</td>\n",
              "      <td>2</td>\n",
              "      <td>348</td>\n",
              "    </tr>\n",
              "    <tr>\n",
              "      <th>3</th>\n",
              "      <td>31847</td>\n",
              "      <td>Downtown/Airport room</td>\n",
              "      <td>2319</td>\n",
              "      <td>Gail</td>\n",
              "      <td>NaN</td>\n",
              "      <td>Le Sud-Ouest</td>\n",
              "      <td>45.48467</td>\n",
              "      <td>-73.57995</td>\n",
              "      <td>Private room</td>\n",
              "      <td>40</td>\n",
              "      <td>2</td>\n",
              "      <td>153</td>\n",
              "      <td>2020-01-07</td>\n",
              "      <td>1.19</td>\n",
              "      <td>5</td>\n",
              "      <td>0</td>\n",
              "    </tr>\n",
              "    <tr>\n",
              "      <th>4</th>\n",
              "      <td>34715</td>\n",
              "      <td>Chez Patrac ! Métro Beaubien</td>\n",
              "      <td>149769</td>\n",
              "      <td>Alain</td>\n",
              "      <td>NaN</td>\n",
              "      <td>Rosemont-La Petite-Patrie</td>\n",
              "      <td>45.53840</td>\n",
              "      <td>-73.60355</td>\n",
              "      <td>Entire home/apt</td>\n",
              "      <td>135</td>\n",
              "      <td>4</td>\n",
              "      <td>4</td>\n",
              "      <td>2011-09-12</td>\n",
              "      <td>0.03</td>\n",
              "      <td>1</td>\n",
              "      <td>358</td>\n",
              "    </tr>\n",
              "  </tbody>\n",
              "</table>\n",
              "</div>"
            ],
            "text/plain": [
              "      id  ... availability_365\n",
              "0   2078  ...                0\n",
              "1  29059  ...              350\n",
              "2  29061  ...              348\n",
              "3  31847  ...                0\n",
              "4  34715  ...              358\n",
              "\n",
              "[5 rows x 16 columns]"
            ]
          },
          "metadata": {
            "tags": []
          },
          "execution_count": 3
        }
      ]
    },
    {
      "cell_type": "markdown",
      "metadata": {
        "id": "6-B_qtEaYEd-"
      },
      "source": [
        "### **Volume dos dados e tipos das variáveis** \r\n",
        "\r\n",
        "Um primeiro passo para a análise de dados é verificar o número de entradas e variáveis, além de tomarmos ciência do tipo de cada uma das variáveis.\r\n",
        "\r\n",
        "Temos dois pontos que podemos observar com relação ao tipo das variáveis: \r\n",
        "* *price* é do tipo int, e portanto quando trabalharmos com esta variável não precisaremos nos preocupar em convertê-la;\r\n",
        "* *last_review* é do tipo object (string), e não datetime."
      ]
    },
    {
      "cell_type": "code",
      "metadata": {
        "id": "TFRK0tniLV-G",
        "colab": {
          "base_uri": "https://localhost:8080/",
          "height": 340
        },
        "outputId": "c55eb8ae-d6c1-421e-b19b-7f701af86a68"
      },
      "source": [
        "print(\"Entradas: {}\".format(df.shape[0]))\n",
        "print(\"Variáveis: {}\".format(df.shape[1]))\n",
        "\n",
        "display(df.dtypes)\n"
      ],
      "execution_count": 4,
      "outputs": [
        {
          "output_type": "stream",
          "text": [
            "Entradas: 13767\n",
            "Variáveis: 16\n"
          ],
          "name": "stdout"
        },
        {
          "output_type": "display_data",
          "data": {
            "text/plain": [
              "id                                  int64\n",
              "name                               object\n",
              "host_id                             int64\n",
              "host_name                          object\n",
              "neighbourhood_group               float64\n",
              "neighbourhood                      object\n",
              "latitude                          float64\n",
              "longitude                         float64\n",
              "room_type                          object\n",
              "price                               int64\n",
              "minimum_nights                      int64\n",
              "number_of_reviews                   int64\n",
              "last_review                        object\n",
              "reviews_per_month                 float64\n",
              "calculated_host_listings_count      int64\n",
              "availability_365                    int64\n",
              "dtype: object"
            ]
          },
          "metadata": {
            "tags": []
          }
        }
      ]
    },
    {
      "cell_type": "markdown",
      "metadata": {
        "id": "yz1urSUGW9iE"
      },
      "source": [
        "### **Valores ausentes no *dataset***\r\n",
        "\r\n",
        "Se olharmos as 5 primeiras entradas do dataset, notamos que existem entradas com NaN, o que denota valores que estão faltando. Fazendo uma análise em busca de todos os valores ausentes, chegamos às seguintes conclusões:\r\n",
        "* *neighbourhood_group* não possui valor algum;\r\n",
        "* *reviews_per_month* e *last_review* possuem 23.5% dos valores ausentes;\r\n",
        "* *name* e *host_name* possuem menos de 0.1% de valores faltando.\r\n"
      ]
    },
    {
      "cell_type": "code",
      "metadata": {
        "id": "plk2FjbCXOqP",
        "colab": {
          "base_uri": "https://localhost:8080/"
        },
        "outputId": "79681387-c2ff-4b4c-a9ee-2805cdcb7a45"
      },
      "source": [
        "(df.isnull().sum() / df.shape[0]).sort_values(ascending=False)"
      ],
      "execution_count": 5,
      "outputs": [
        {
          "output_type": "execute_result",
          "data": {
            "text/plain": [
              "neighbourhood_group               1.000000\n",
              "reviews_per_month                 0.235491\n",
              "last_review                       0.235491\n",
              "name                              0.000581\n",
              "host_name                         0.000218\n",
              "availability_365                  0.000000\n",
              "calculated_host_listings_count    0.000000\n",
              "number_of_reviews                 0.000000\n",
              "minimum_nights                    0.000000\n",
              "price                             0.000000\n",
              "room_type                         0.000000\n",
              "longitude                         0.000000\n",
              "latitude                          0.000000\n",
              "neighbourhood                     0.000000\n",
              "host_id                           0.000000\n",
              "id                                0.000000\n",
              "dtype: float64"
            ]
          },
          "metadata": {
            "tags": []
          },
          "execution_count": 5
        }
      ]
    },
    {
      "cell_type": "markdown",
      "metadata": {
        "id": "iHXvvHIxaoNc"
      },
      "source": [
        "### **Entendendo as variáveis** \r\n",
        "Para entender um pouco mais das variáveis, vamos verificar as suas distribuições plotando histogramas para as variáveis numéricas. Desta forma já temos indícios de que existem valores atípicos para as variáveis *price* e *minimum_nights*.\r\n"
      ]
    },
    {
      "cell_type": "code",
      "metadata": {
        "id": "q2wWSfeRbmBo",
        "colab": {
          "base_uri": "https://localhost:8080/",
          "height": 607
        },
        "outputId": "a6a49987-5be3-4744-834b-534218f4fcd2"
      },
      "source": [
        "df[['price', 'minimum_nights', 'number_of_reviews', 'reviews_per_month', \n",
        "    'calculated_host_listings_count', 'availability_365']].hist(bins=15, \n",
        "                                                                figsize=(15,10));"
      ],
      "execution_count": 6,
      "outputs": [
        {
          "output_type": "display_data",
          "data": {
            "image/png": "[encoded data removed]",
            "text/plain": [
              "<Figure size 1080x720 with 6 Axes>"
            ]
          },
          "metadata": {
            "tags": [],
            "needs_background": "light"
          }
        }
      ]
    },
    {
      "cell_type": "markdown",
      "metadata": {
        "id": "T0QbOnILvmA6"
      },
      "source": [
        "### **Existência de outliers**\r\n",
        "\r\n",
        "Com o auxílio do resumo estatístico abaixo, podemos verificar a existência de outliers nos dados:\r\n",
        "* a variável *price* possui um valor mínimo de 0, e apesar de 75% dos valores estarem abaixo de 120, possui um valor máximo de 13294;\r\n",
        "* a variável *minimum_nights* possui um valor máximo de 11684, o que ultrapassa os 365 dias do ano.\r\n",
        "\r\n",
        "A partir de gráficos box-plot é possivel confirmar estas hipóteses. Mais a frente, limparemos os dados excluindo estes outliers.\r\n",
        "\r\n",
        "Ao plotar gráficos Box-plot para as variáveis *number_of_reviews* e *reviews_per_month*, também verificamos a existência de valores exteriores, porém que não consideraremos como outliers, pois um imóvel cadastrado à mais tempo na plataforma, ou que possui alta demanda, tende a ter valores discrepantes."
      ]
    },
    {
      "cell_type": "code",
      "metadata": {
        "colab": {
          "base_uri": "https://localhost:8080/",
          "height": 297
        },
        "id": "ikMv4AD8wHYG",
        "outputId": "3ef7fb0c-8676-4981-d5f9-f811a7c793f1"
      },
      "source": [
        "df[['price', 'minimum_nights', 'number_of_reviews', 'reviews_per_month', \r\n",
        "    'calculated_host_listings_count', 'availability_365']].describe()"
      ],
      "execution_count": 7,
      "outputs": [
        {
          "output_type": "execute_result",
          "data": {
            "text/html": [
              "<div>\n",
              "<style scoped>\n",
              "    .dataframe tbody tr th:only-of-type {\n",
              "        vertical-align: middle;\n",
              "    }\n",
              "\n",
              "    .dataframe tbody tr th {\n",
              "        vertical-align: top;\n",
              "    }\n",
              "\n",
              "    .dataframe thead th {\n",
              "        text-align: right;\n",
              "    }\n",
              "</style>\n",
              "<table border=\"1\" class=\"dataframe\">\n",
              "  <thead>\n",
              "    <tr style=\"text-align: right;\">\n",
              "      <th></th>\n",
              "      <th>price</th>\n",
              "      <th>minimum_nights</th>\n",
              "      <th>number_of_reviews</th>\n",
              "      <th>reviews_per_month</th>\n",
              "      <th>calculated_host_listings_count</th>\n",
              "      <th>availability_365</th>\n",
              "    </tr>\n",
              "  </thead>\n",
              "  <tbody>\n",
              "    <tr>\n",
              "      <th>count</th>\n",
              "      <td>13767.000000</td>\n",
              "      <td>13767.000000</td>\n",
              "      <td>13767.000000</td>\n",
              "      <td>10525.000000</td>\n",
              "      <td>13767.000000</td>\n",
              "      <td>13767.000000</td>\n",
              "    </tr>\n",
              "    <tr>\n",
              "      <th>mean</th>\n",
              "      <td>118.505339</td>\n",
              "      <td>14.112298</td>\n",
              "      <td>20.986562</td>\n",
              "      <td>0.891945</td>\n",
              "      <td>7.091668</td>\n",
              "      <td>130.273698</td>\n",
              "    </tr>\n",
              "    <tr>\n",
              "      <th>std</th>\n",
              "      <td>288.931405</td>\n",
              "      <td>107.392973</td>\n",
              "      <td>45.494290</td>\n",
              "      <td>1.247030</td>\n",
              "      <td>15.805663</td>\n",
              "      <td>142.181803</td>\n",
              "    </tr>\n",
              "    <tr>\n",
              "      <th>min</th>\n",
              "      <td>0.000000</td>\n",
              "      <td>1.000000</td>\n",
              "      <td>0.000000</td>\n",
              "      <td>0.010000</td>\n",
              "      <td>1.000000</td>\n",
              "      <td>0.000000</td>\n",
              "    </tr>\n",
              "    <tr>\n",
              "      <th>25%</th>\n",
              "      <td>49.000000</td>\n",
              "      <td>1.000000</td>\n",
              "      <td>1.000000</td>\n",
              "      <td>0.130000</td>\n",
              "      <td>1.000000</td>\n",
              "      <td>0.000000</td>\n",
              "    </tr>\n",
              "    <tr>\n",
              "      <th>50%</th>\n",
              "      <td>78.000000</td>\n",
              "      <td>2.000000</td>\n",
              "      <td>4.000000</td>\n",
              "      <td>0.380000</td>\n",
              "      <td>1.000000</td>\n",
              "      <td>85.000000</td>\n",
              "    </tr>\n",
              "    <tr>\n",
              "      <th>75%</th>\n",
              "      <td>120.000000</td>\n",
              "      <td>8.500000</td>\n",
              "      <td>19.000000</td>\n",
              "      <td>1.120000</td>\n",
              "      <td>4.000000</td>\n",
              "      <td>269.000000</td>\n",
              "    </tr>\n",
              "    <tr>\n",
              "      <th>max</th>\n",
              "      <td>13294.000000</td>\n",
              "      <td>11684.000000</td>\n",
              "      <td>638.000000</td>\n",
              "      <td>15.330000</td>\n",
              "      <td>110.000000</td>\n",
              "      <td>365.000000</td>\n",
              "    </tr>\n",
              "  </tbody>\n",
              "</table>\n",
              "</div>"
            ],
            "text/plain": [
              "              price  ...  availability_365\n",
              "count  13767.000000  ...      13767.000000\n",
              "mean     118.505339  ...        130.273698\n",
              "std      288.931405  ...        142.181803\n",
              "min        0.000000  ...          0.000000\n",
              "25%       49.000000  ...          0.000000\n",
              "50%       78.000000  ...         85.000000\n",
              "75%      120.000000  ...        269.000000\n",
              "max    13294.000000  ...        365.000000\n",
              "\n",
              "[8 rows x 6 columns]"
            ]
          },
          "metadata": {
            "tags": []
          },
          "execution_count": 7
        }
      ]
    },
    {
      "cell_type": "code",
      "metadata": {
        "colab": {
          "base_uri": "https://localhost:8080/",
          "height": 262
        },
        "id": "ETTzbl-YnFFD",
        "outputId": "5de22125-bbda-48e4-c500-a8527b32bfda"
      },
      "source": [
        "df.minimum_nights.plot(kind='box', vert=False, figsize=(15,3))\r\n",
        "plt.show()\r\n",
        "\r\n",
        "q1_nights = df.minimum_nights.quantile(0.25)\r\n",
        "q3_nights = df.minimum_nights.quantile(0.75)\r\n",
        "limite_superior_minimum_nights = q3_nights + 1.5*(q3_nights - q1_nights)\r\n",
        "\r\n",
        "num_outiliers_minimum_nights = len(df[df.minimum_nights > \r\n",
        "                                          32])\r\n",
        "\r\n",
        "print(f\"Outliers possuem valores de 'minimum_nights' acima de {32}:\")\r\n",
        "print(f\"{num_outiliers_minimum_nights} entradas\")\r\n",
        "print(f'{num_outiliers_minimum_nights / df.shape[0]*100:.4f}%')"
      ],
      "execution_count": 8,
      "outputs": [
        {
          "output_type": "display_data",
          "data": {
            "image/png": "[encoded data removed]",
            "text/plain": [
              "<Figure size 1080x216 with 1 Axes>"
            ]
          },
          "metadata": {
            "tags": [],
            "needs_background": "light"
          }
        },
        {
          "output_type": "stream",
          "text": [
            "Outliers possuem valores de 'minimum_nights' acima de 32:\n",
            "541 entradas\n",
            "3.9297%\n"
          ],
          "name": "stdout"
        }
      ]
    },
    {
      "cell_type": "code",
      "metadata": {
        "colab": {
          "base_uri": "https://localhost:8080/",
          "height": 262
        },
        "id": "DNMOGwY3r0Zt",
        "outputId": "6e0ca5c4-80af-4f85-d460-707bc8d5274d"
      },
      "source": [
        "df.price.plot(kind='box', vert=False, figsize=(15,3))\r\n",
        "plt.show()\r\n",
        "\r\n",
        "q1_price = df.price.quantile(0.25)\r\n",
        "q3_price = df.price.quantile(0.75)\r\n",
        "limite_superior_price = q3_price + 1.5*(q3_price - q1_price)\r\n",
        "\r\n",
        "num_outiliers_price = len(df[df.price > limite_superior_price])\r\n",
        "\r\n",
        "print(f\"Outliers possuem valores de 'price' acima de {limite_superior_price}:\")\r\n",
        "print(f\"{num_outiliers_price} entradas\")\r\n",
        "print(f'{num_outiliers_price / df.shape[0]*100:.4f}%')"
      ],
      "execution_count": 9,
      "outputs": [
        {
          "output_type": "display_data",
          "data": {
            "image/png": "[encoded data removed]",
            "text/plain": [
              "<Figure size 1080x216 with 1 Axes>"
            ]
          },
          "metadata": {
            "tags": [],
            "needs_background": "light"
          }
        },
        {
          "output_type": "stream",
          "text": [
            "Outliers possuem valores de 'price' acima de 226.5:\n",
            "998 entradas\n",
            "7.2492%\n"
          ],
          "name": "stdout"
        }
      ]
    },
    {
      "cell_type": "code",
      "metadata": {
        "colab": {
          "base_uri": "https://localhost:8080/",
          "height": 262
        },
        "id": "LkZjl_QNBizj",
        "outputId": "f119fea1-bec7-4547-882f-6b163ac1932b"
      },
      "source": [
        "df.number_of_reviews.plot(kind='box', vert=False, figsize=(15,3))\r\n",
        "plt.show()\r\n",
        "\r\n",
        "q1_number_of_reviews = df.number_of_reviews.quantile(0.25)\r\n",
        "q3_number_of_reviews = df.number_of_reviews.quantile(0.75)\r\n",
        "limite_superior_number_of_reviews = q3_number_of_reviews + 1.5*(q3_number_of_reviews - q1_number_of_reviews)\r\n",
        "\r\n",
        "num_outiliers_number_of_reviews = len(df[df.number_of_reviews > limite_superior_number_of_reviews])\r\n",
        "\r\n",
        "print(f\"Outliers possuem valores de 'number_of_reviews' acima de {limite_superior_number_of_reviews}:\")\r\n",
        "print(f\"{num_outiliers_number_of_reviews} entradas\")\r\n",
        "print(f'{num_outiliers_number_of_reviews / df.shape[0]*100:.4f}%')"
      ],
      "execution_count": 10,
      "outputs": [
        {
          "output_type": "display_data",
          "data": {
            "image/png": "[encoded data removed]",
            "text/plain": [
              "<Figure size 1080x216 with 1 Axes>"
            ]
          },
          "metadata": {
            "tags": [],
            "needs_background": "light"
          }
        },
        {
          "output_type": "stream",
          "text": [
            "Outliers possuem valores de 'number_of_reviews' acima de 46.0:\n",
            "1762 entradas\n",
            "12.7987%\n"
          ],
          "name": "stdout"
        }
      ]
    },
    {
      "cell_type": "code",
      "metadata": {
        "colab": {
          "base_uri": "https://localhost:8080/",
          "height": 262
        },
        "id": "L0Y295AZCiL9",
        "outputId": "83563680-0d42-45ed-cc9f-9592f4410aca"
      },
      "source": [
        "df.reviews_per_month.plot(kind='box', vert=False, figsize=(15,3))\r\n",
        "plt.show()\r\n",
        "\r\n",
        "q1_reviews_per_month = df.reviews_per_month.quantile(0.25)\r\n",
        "q3_reviews_per_month = df.reviews_per_month.quantile(0.75)\r\n",
        "limite_superior_reviews_per_month = q3_reviews_per_month + 1.5*(q3_reviews_per_month - q1_reviews_per_month)\r\n",
        "\r\n",
        "num_outiliers_reviews_per_month = len(df[df.reviews_per_month > limite_superior_reviews_per_month])\r\n",
        "\r\n",
        "print(f\"Outliers possuem valores de 'reviews_per_month' acima de {limite_superior_reviews_per_month}:\")\r\n",
        "print(f\"{num_outiliers_reviews_per_month} entradas\")\r\n",
        "print(f'{num_outiliers_reviews_per_month / df.shape[0]*100:.4f}%')"
      ],
      "execution_count": 11,
      "outputs": [
        {
          "output_type": "display_data",
          "data": {
            "image/png": "[encoded data removed]",
            "text/plain": [
              "<Figure size 1080x216 with 1 Axes>"
            ]
          },
          "metadata": {
            "tags": [],
            "needs_background": "light"
          }
        },
        {
          "output_type": "stream",
          "text": [
            "Outliers possuem valores de 'reviews_per_month' acima de 2.6050000000000004:\n",
            "940 entradas\n",
            "6.8279%\n"
          ],
          "name": "stdout"
        }
      ]
    },
    {
      "cell_type": "markdown",
      "metadata": {
        "id": "azlST9YO9eX2"
      },
      "source": [
        "### **Limpando os dados**\r\n",
        "Neste momento iremos remover outliers e plotar novamente gráficos, o que nos dará uma noção melhor da distribuição de preços e mínimo de noites.\r\n",
        "\r\n",
        "Com relação à variável *minimum_nights*, existe um acúmulo de propriedades com valores entre 30 e 32. Isto pode ser devido, por exemplo, ao fato de existirem imóveis destinados a locação por temporada ou para estudantes de intercâmbio, ou ainda pela necessidade de uma permissão para que o anfitrião possa alugar por menos de 31 noites. Por estes motivos, consideramos como outliers valores acima de 32.\r\n",
        "\r\n",
        "Para a variável *price*, vamos admitir como válidos apenas valores para estas variáveis que estão abaixo de $$Q3 + 1.5(Q3 - Q1)$$\r\n",
        "na qual Q1 e Q3 denotam primeiro e terceiro quantis, respectivamente. Além disso removeremos também os valores nulos.\r\n",
        "\r\n",
        "Após a limpeza, já vemos que o preço máximo é de 226, um valor bem mais aceitável."
      ]
    },
    {
      "cell_type": "code",
      "metadata": {
        "id": "0c5ZV6b69Jvi",
        "colab": {
          "base_uri": "https://localhost:8080/",
          "height": 607
        },
        "outputId": "a00ecbae-9af0-4096-8c04-57e894dfa15c"
      },
      "source": [
        "# removendo os outliers em um novo DataFrame\r\n",
        "df_clean = df.copy()\r\n",
        "df_clean.drop(df_clean[df_clean.minimum_nights > 32].index,\r\n",
        "              axis=0,\r\n",
        "              inplace=True)\r\n",
        "df_clean.drop(df_clean[df_clean.price > limite_superior_price].index,\r\n",
        "              axis=0,\r\n",
        "              inplace=True)\r\n",
        "df_clean.drop(df_clean[df_clean.price == 0].index,\r\n",
        "              axis=0,\r\n",
        "              inplace=True)\r\n",
        "\r\n",
        "\r\n",
        "# removendo 'neighbourhood_group'\r\n",
        "df_clean.drop('neighbourhood_group',\r\n",
        "              axis=1,\r\n",
        "              inplace=True)\r\n",
        "\r\n",
        "# plotando o histograma para as variáveis numéricas\r\n",
        "df_clean[['price', 'minimum_nights', 'number_of_reviews', 'reviews_per_month', \r\n",
        "    'calculated_host_listings_count', 'availability_365']].hist(bins=30, figsize=(15,10))\r\n",
        "plt.show()"
      ],
      "execution_count": 12,
      "outputs": [
        {
          "output_type": "display_data",
          "data": {
            "image/png": "[encoded data removed]",
            "text/plain": [
              "<Figure size 1080x720 with 6 Axes>"
            ]
          },
          "metadata": {
            "tags": [],
            "needs_background": "light"
          }
        }
      ]
    },
    {
      "cell_type": "code",
      "metadata": {
        "id": "zXwlV_tIC2p6",
        "colab": {
          "base_uri": "https://localhost:8080/",
          "height": 297
        },
        "outputId": "b9038937-411e-4168-fb83-48463ef3a65f"
      },
      "source": [
        "df_clean[['price', 'minimum_nights', 'number_of_reviews', 'reviews_per_month', \r\n",
        "    'calculated_host_listings_count', 'availability_365']].describe()"
      ],
      "execution_count": 13,
      "outputs": [
        {
          "output_type": "execute_result",
          "data": {
            "text/html": [
              "<div>\n",
              "<style scoped>\n",
              "    .dataframe tbody tr th:only-of-type {\n",
              "        vertical-align: middle;\n",
              "    }\n",
              "\n",
              "    .dataframe tbody tr th {\n",
              "        vertical-align: top;\n",
              "    }\n",
              "\n",
              "    .dataframe thead th {\n",
              "        text-align: right;\n",
              "    }\n",
              "</style>\n",
              "<table border=\"1\" class=\"dataframe\">\n",
              "  <thead>\n",
              "    <tr style=\"text-align: right;\">\n",
              "      <th></th>\n",
              "      <th>price</th>\n",
              "      <th>minimum_nights</th>\n",
              "      <th>number_of_reviews</th>\n",
              "      <th>reviews_per_month</th>\n",
              "      <th>calculated_host_listings_count</th>\n",
              "      <th>availability_365</th>\n",
              "    </tr>\n",
              "  </thead>\n",
              "  <tbody>\n",
              "    <tr>\n",
              "      <th>count</th>\n",
              "      <td>12261.000000</td>\n",
              "      <td>12261.000000</td>\n",
              "      <td>12261.000000</td>\n",
              "      <td>9562.000000</td>\n",
              "      <td>12261.000000</td>\n",
              "      <td>12261.000000</td>\n",
              "    </tr>\n",
              "    <tr>\n",
              "      <th>mean</th>\n",
              "      <td>82.251692</td>\n",
              "      <td>7.969252</td>\n",
              "      <td>21.579398</td>\n",
              "      <td>0.909693</td>\n",
              "      <td>7.136694</td>\n",
              "      <td>124.205693</td>\n",
              "    </tr>\n",
              "    <tr>\n",
              "      <th>std</th>\n",
              "      <td>46.517535</td>\n",
              "      <td>10.966936</td>\n",
              "      <td>46.541605</td>\n",
              "      <td>1.269415</td>\n",
              "      <td>16.077669</td>\n",
              "      <td>140.330981</td>\n",
              "    </tr>\n",
              "    <tr>\n",
              "      <th>min</th>\n",
              "      <td>13.000000</td>\n",
              "      <td>1.000000</td>\n",
              "      <td>0.000000</td>\n",
              "      <td>0.010000</td>\n",
              "      <td>1.000000</td>\n",
              "      <td>0.000000</td>\n",
              "    </tr>\n",
              "    <tr>\n",
              "      <th>25%</th>\n",
              "      <td>45.000000</td>\n",
              "      <td>1.000000</td>\n",
              "      <td>1.000000</td>\n",
              "      <td>0.130000</td>\n",
              "      <td>1.000000</td>\n",
              "      <td>0.000000</td>\n",
              "    </tr>\n",
              "    <tr>\n",
              "      <th>50%</th>\n",
              "      <td>74.000000</td>\n",
              "      <td>2.000000</td>\n",
              "      <td>4.000000</td>\n",
              "      <td>0.390000</td>\n",
              "      <td>1.000000</td>\n",
              "      <td>75.000000</td>\n",
              "    </tr>\n",
              "    <tr>\n",
              "      <th>75%</th>\n",
              "      <td>105.000000</td>\n",
              "      <td>7.000000</td>\n",
              "      <td>19.000000</td>\n",
              "      <td>1.140000</td>\n",
              "      <td>4.000000</td>\n",
              "      <td>255.000000</td>\n",
              "    </tr>\n",
              "    <tr>\n",
              "      <th>max</th>\n",
              "      <td>226.000000</td>\n",
              "      <td>32.000000</td>\n",
              "      <td>638.000000</td>\n",
              "      <td>15.330000</td>\n",
              "      <td>110.000000</td>\n",
              "      <td>365.000000</td>\n",
              "    </tr>\n",
              "  </tbody>\n",
              "</table>\n",
              "</div>"
            ],
            "text/plain": [
              "              price  ...  availability_365\n",
              "count  12261.000000  ...      12261.000000\n",
              "mean      82.251692  ...        124.205693\n",
              "std       46.517535  ...        140.330981\n",
              "min       13.000000  ...          0.000000\n",
              "25%       45.000000  ...          0.000000\n",
              "50%       74.000000  ...         75.000000\n",
              "75%      105.000000  ...        255.000000\n",
              "max      226.000000  ...        365.000000\n",
              "\n",
              "[8 rows x 6 columns]"
            ]
          },
          "metadata": {
            "tags": []
          },
          "execution_count": 13
        }
      ]
    },
    {
      "cell_type": "markdown",
      "metadata": {
        "id": "7x4aw1j5wNmn"
      },
      "source": [
        "### **Qual é a média de preços para a cidade de Montreal?**\r\n",
        "\r\n",
        "Agora podemos calcular a média de preços de uma diária! Porém, saber que a média é 83.14 dólares canadenses, não nos diz muito sobre a localização e tipo dos imóveis e seus valores. A seguir faremos uma análise mais apurada neste sentido.\r\n"
      ]
    },
    {
      "cell_type": "code",
      "metadata": {
        "id": "ff-8gUahLk-C",
        "colab": {
          "base_uri": "https://localhost:8080/"
        },
        "outputId": "35987c13-4cea-48c7-977f-1c7edd6c22dc"
      },
      "source": [
        "# ver a média da coluna `price``\n",
        "df_clean.price.mean()"
      ],
      "execution_count": 14,
      "outputs": [
        {
          "output_type": "execute_result",
          "data": {
            "text/plain": [
              "82.25169235788272"
            ]
          },
          "metadata": {
            "tags": []
          },
          "execution_count": 14
        }
      ]
    },
    {
      "cell_type": "markdown",
      "metadata": {
        "id": "IXn2oIo5qx-w"
      },
      "source": [
        "### **Existe alguma relação entre as variáveis?**\r\n",
        "\r\n",
        "Correlação é uma ferramenta estatistica utilizada para verificar se existe uma relação linear entre duas variáveis, atribuindo um número real de -1 à 1, chamado de coeficiente de correlação, de maneira que -1 e 1 significam que as variáveis são perfeitamente correlacionadas e 0 siginifica que não existe correlação.\r\n",
        "\r\n",
        "Verificamos desta forma que as únicas variáveis númericas possivelmente correlacionadas são *reviews_per_month* e *number_of_reviews*, com coeficiente de correlação 0.75, o que faz total sentido considerando que imoveis com uma maior taxa de reviews tende a ter um maior número."
      ]
    },
    {
      "cell_type": "code",
      "metadata": {
        "id": "x2ayzBajqxyd",
        "colab": {
          "base_uri": "https://localhost:8080/",
          "height": 235
        },
        "outputId": "43cbce29-6a8c-4e39-92cd-eed76b42ba10"
      },
      "source": [
        "# criar uma matriz de correlação\n",
        "corr = df_clean[['price', 'minimum_nights', 'number_of_reviews', 'reviews_per_month', \n",
        "    'calculated_host_listings_count', 'availability_365']].corr()\n",
        "# mostrar a matriz de correlação\n",
        "display(corr)"
      ],
      "execution_count": 15,
      "outputs": [
        {
          "output_type": "display_data",
          "data": {
            "text/html": [
              "<div>\n",
              "<style scoped>\n",
              "    .dataframe tbody tr th:only-of-type {\n",
              "        vertical-align: middle;\n",
              "    }\n",
              "\n",
              "    .dataframe tbody tr th {\n",
              "        vertical-align: top;\n",
              "    }\n",
              "\n",
              "    .dataframe thead th {\n",
              "        text-align: right;\n",
              "    }\n",
              "</style>\n",
              "<table border=\"1\" class=\"dataframe\">\n",
              "  <thead>\n",
              "    <tr style=\"text-align: right;\">\n",
              "      <th></th>\n",
              "      <th>price</th>\n",
              "      <th>minimum_nights</th>\n",
              "      <th>number_of_reviews</th>\n",
              "      <th>reviews_per_month</th>\n",
              "      <th>calculated_host_listings_count</th>\n",
              "      <th>availability_365</th>\n",
              "    </tr>\n",
              "  </thead>\n",
              "  <tbody>\n",
              "    <tr>\n",
              "      <th>price</th>\n",
              "      <td>1.000000</td>\n",
              "      <td>-0.030781</td>\n",
              "      <td>0.055397</td>\n",
              "      <td>0.051930</td>\n",
              "      <td>0.106318</td>\n",
              "      <td>0.111511</td>\n",
              "    </tr>\n",
              "    <tr>\n",
              "      <th>minimum_nights</th>\n",
              "      <td>-0.030781</td>\n",
              "      <td>1.000000</td>\n",
              "      <td>-0.035260</td>\n",
              "      <td>-0.096809</td>\n",
              "      <td>0.262352</td>\n",
              "      <td>0.195773</td>\n",
              "    </tr>\n",
              "    <tr>\n",
              "      <th>number_of_reviews</th>\n",
              "      <td>0.055397</td>\n",
              "      <td>-0.035260</td>\n",
              "      <td>1.000000</td>\n",
              "      <td>0.758883</td>\n",
              "      <td>-0.018807</td>\n",
              "      <td>0.088296</td>\n",
              "    </tr>\n",
              "    <tr>\n",
              "      <th>reviews_per_month</th>\n",
              "      <td>0.051930</td>\n",
              "      <td>-0.096809</td>\n",
              "      <td>0.758883</td>\n",
              "      <td>1.000000</td>\n",
              "      <td>0.054362</td>\n",
              "      <td>0.115649</td>\n",
              "    </tr>\n",
              "    <tr>\n",
              "      <th>calculated_host_listings_count</th>\n",
              "      <td>0.106318</td>\n",
              "      <td>0.262352</td>\n",
              "      <td>-0.018807</td>\n",
              "      <td>0.054362</td>\n",
              "      <td>1.000000</td>\n",
              "      <td>0.205339</td>\n",
              "    </tr>\n",
              "    <tr>\n",
              "      <th>availability_365</th>\n",
              "      <td>0.111511</td>\n",
              "      <td>0.195773</td>\n",
              "      <td>0.088296</td>\n",
              "      <td>0.115649</td>\n",
              "      <td>0.205339</td>\n",
              "      <td>1.000000</td>\n",
              "    </tr>\n",
              "  </tbody>\n",
              "</table>\n",
              "</div>"
            ],
            "text/plain": [
              "                                   price  ...  availability_365\n",
              "price                           1.000000  ...          0.111511\n",
              "minimum_nights                 -0.030781  ...          0.195773\n",
              "number_of_reviews               0.055397  ...          0.088296\n",
              "reviews_per_month               0.051930  ...          0.115649\n",
              "calculated_host_listings_count  0.106318  ...          0.205339\n",
              "availability_365                0.111511  ...          1.000000\n",
              "\n",
              "[6 rows x 6 columns]"
            ]
          },
          "metadata": {
            "tags": []
          }
        }
      ]
    },
    {
      "cell_type": "code",
      "metadata": {
        "id": "91UujDr6ueqE",
        "colab": {
          "base_uri": "https://localhost:8080/",
          "height": 411
        },
        "outputId": "285f5701-d29f-46ff-ad4d-b1aa858c944d"
      },
      "source": [
        "# plotar um heatmap a partir das correlações\n",
        "sns.heatmap(corr, cmap='RdBu', fmt='.2f', square=True, linecolor='white', annot=True);"
      ],
      "execution_count": 16,
      "outputs": [
        {
          "output_type": "display_data",
          "data": {
            "image/png": "[encoded data removed]",
            "text/plain": [
              "<Figure size 432x288 with 2 Axes>"
            ]
          },
          "metadata": {
            "tags": [],
            "needs_background": "light"
          }
        }
      ]
    },
    {
      "cell_type": "markdown",
      "metadata": {
        "id": "7b6RMWpuHKN-"
      },
      "source": [
        "### **Qual o tipo de imóvel mais alugado no Airbnb?**\r\n",
        "\r\n",
        "Com relação ao tipo de quarto, temos 4 categorias, de forma que casas ou apartamentos inteiros e quartos privados são predominantes, com aproximadamente 66.46% e 32% do total.\r\n",
        "\r\n",
        "Podemos verificar tambem que quartos privados possui uma média de valor bem abaixo da média total, e casas ou apartamentos inteiros um pouco acima."
      ]
    },
    {
      "cell_type": "code",
      "metadata": {
        "id": "ueLPNWvPHgfB",
        "colab": {
          "base_uri": "https://localhost:8080/"
        },
        "outputId": "8520f183-4c72-4976-ab7f-1e045c30bb7c"
      },
      "source": [
        "# mostrar a quantidade de cada tipo de imóvel disponível\n",
        "df_clean.room_type.value_counts()"
      ],
      "execution_count": 17,
      "outputs": [
        {
          "output_type": "execute_result",
          "data": {
            "text/plain": [
              "Entire home/apt    8513\n",
              "Private room       3590\n",
              "Shared room         104\n",
              "Hotel room           54\n",
              "Name: room_type, dtype: int64"
            ]
          },
          "metadata": {
            "tags": []
          },
          "execution_count": 17
        }
      ]
    },
    {
      "cell_type": "code",
      "metadata": {
        "id": "EvwoO-XAHhIm",
        "colab": {
          "base_uri": "https://localhost:8080/"
        },
        "outputId": "e99ea9ad-4ddc-411e-cfd2-8cbe4ffee911"
      },
      "source": [
        "# mostrar a porcentagem de cada tipo de imóvel disponível\n",
        "df_clean.room_type.value_counts() /df_clean.shape[0]"
      ],
      "execution_count": 18,
      "outputs": [
        {
          "output_type": "execute_result",
          "data": {
            "text/plain": [
              "Entire home/apt    0.694315\n",
              "Private room       0.292798\n",
              "Shared room        0.008482\n",
              "Hotel room         0.004404\n",
              "Name: room_type, dtype: float64"
            ]
          },
          "metadata": {
            "tags": []
          },
          "execution_count": 18
        }
      ]
    },
    {
      "cell_type": "code",
      "metadata": {
        "id": "17XjCXy6-jgN",
        "colab": {
          "base_uri": "https://localhost:8080/"
        },
        "outputId": "83bf33c6-2f2c-4d98-a82f-2966bcd91f17"
      },
      "source": [
        "tipo_de_quarto = df_clean.groupby(['room_type']).price.mean()\r\n",
        "tipo_de_quarto"
      ],
      "execution_count": 19,
      "outputs": [
        {
          "output_type": "execute_result",
          "data": {
            "text/plain": [
              "room_type\n",
              "Entire home/apt     95.920944\n",
              "Hotel room         111.907407\n",
              "Private room        50.489415\n",
              "Shared room         44.355769\n",
              "Name: price, dtype: float64"
            ]
          },
          "metadata": {
            "tags": []
          },
          "execution_count": 19
        }
      ]
    },
    {
      "cell_type": "markdown",
      "metadata": {
        "id": "MFa5NbnLJMcd"
      },
      "source": [
        "### **Qual é o bairro ou localidade mais caro?**\n",
        "\n",
        "Naturalmente nos perguntamos qual a região mais cara. Dito isto, fazendo uma análise do preço médio e do número de imóveis de cada bairro, vemos que alguns valores atrapalham a nossa análise. Por exemplo, o bairro *Kirkland* é a localidade mais cara em média, com apenas 5 imóveis, e *Montréal-Est* é o segundo mais caro, que possui apenas 3 imóveis."
      ]
    },
    {
      "cell_type": "code",
      "metadata": {
        "id": "MD_xa143JZpi",
        "colab": {
          "base_uri": "https://localhost:8080/"
        },
        "outputId": "ddc8f39d-7213-4fec-8117-5429d4b10ba5"
      },
      "source": [
        "# ver preços por bairros, na média\n",
        "preco_medio_por_distrito = df_clean.groupby(['neighbourhood']).price.mean()\n",
        "preco_medio_por_distrito.sort_values(ascending=False)[:10]"
      ],
      "execution_count": 20,
      "outputs": [
        {
          "output_type": "execute_result",
          "data": {
            "text/plain": [
              "neighbourhood\n",
              "Kirkland               123.400000\n",
              "Montréal-Est           107.000000\n",
              "Côte-Saint-Luc         105.105263\n",
              "Hampstead               99.500000\n",
              "Westmount               98.256757\n",
              "Le Sud-Ouest            91.410419\n",
              "Ville-Marie             90.514269\n",
              "Outremont               87.992593\n",
              "Pierrefonds-Roxboro     87.756098\n",
              "Montréal-Ouest          86.800000\n",
              "Name: price, dtype: float64"
            ]
          },
          "metadata": {
            "tags": []
          },
          "execution_count": 20
        }
      ]
    },
    {
      "cell_type": "code",
      "metadata": {
        "id": "Mk-WjarzexOq",
        "colab": {
          "base_uri": "https://localhost:8080/"
        },
        "outputId": "30e66459-532a-4ea6-bbd9-9f252c29f229"
      },
      "source": [
        "# número de imóveis por bairro\r\n",
        "num_imoveis_por_distrito = df_clean.groupby(['neighbourhood']).name.count()\r\n",
        "num_imoveis_por_distrito.sort_values(ascending=False)"
      ],
      "execution_count": 21,
      "outputs": [
        {
          "output_type": "execute_result",
          "data": {
            "text/plain": [
              "neighbourhood\n",
              "Ville-Marie                                 3329\n",
              "Le Plateau-Mont-Royal                       3145\n",
              "Rosemont-La Petite-Patrie                   1204\n",
              "Côte-des-Neiges-Notre-Dame-de-Grâce          940\n",
              "Le Sud-Ouest                                 787\n",
              "Mercier-Hochelaga-Maisonneuve                661\n",
              "Villeray-Saint-Michel-Parc-Extension         635\n",
              "Verdun                                       287\n",
              "Ahuntsic-Cartierville                        246\n",
              "Saint-Laurent                                139\n",
              "Outremont                                    135\n",
              "LaSalle                                      110\n",
              "Westmount                                     74\n",
              "Lachine                                       68\n",
              "Saint-Léonard                                 58\n",
              "Montréal-Nord                                 58\n",
              "Rivière-des-Prairies-Pointe-aux-Trembles      57\n",
              "Anjou                                         46\n",
              "Pointe-Claire                                 42\n",
              "Pierrefonds-Roxboro                           41\n",
              "Côte-Saint-Luc                                38\n",
              "Mont-Royal                                    32\n",
              "Dorval                                        32\n",
              "Dollard-des-Ormeaux                           30\n",
              "L'Île-Bizard-Sainte-Geneviève                 14\n",
              "Beaconsfield                                  13\n",
              "Montréal-Ouest                                10\n",
              "Hampstead                                      6\n",
              "Kirkland                                       5\n",
              "Sainte-Anne-de-Bellevue                        4\n",
              "Montréal-Est                                   3\n",
              "Senneville                                     2\n",
              "Baie-d'Urfé                                    2\n",
              "Name: name, dtype: int64"
            ]
          },
          "metadata": {
            "tags": []
          },
          "execution_count": 21
        }
      ]
    },
    {
      "cell_type": "markdown",
      "metadata": {
        "id": "ONBB5C-KRCxh"
      },
      "source": [
        "Utilizando um gráfico de dispersão, vemos que a maioria dos imóveis estão localizados na região central de Montreal. Além disso, os dois barros comentados acima estão mais afastados, o que nos sugere a necessidade de uma análise mais apurada.\r\n",
        "\r\n",
        "Para isto, dividiremos os bairros em 3 classes diferentes com relação à quantidade de propriedades: Até 10, de 11 a 50 e acima de 50."
      ]
    },
    {
      "cell_type": "code",
      "metadata": {
        "id": "UxVJqJ_3W59I",
        "colab": {
          "base_uri": "https://localhost:8080/",
          "height": 471
        },
        "outputId": "370b2c4d-d2f1-4fdc-df3f-90fdcb2ab07d"
      },
      "source": [
        "# plotar os imóveis pela latitude-longitude\n",
        "df_clean.plot(kind='scatter', x='longitude', y='latitude', alpha=0.4, c=df_clean['price'],\n",
        "              s=8, cmap=plt.get_cmap('jet'), figsize=(12,8));"
      ],
      "execution_count": 22,
      "outputs": [
        {
          "output_type": "display_data",
          "data": {
            "image/png": "[encoded data removed]",
            "text/plain": [
              "<Figure size 864x576 with 2 Axes>"
            ]
          },
          "metadata": {
            "tags": [],
            "needs_background": "light"
          }
        }
      ]
    },
    {
      "cell_type": "code",
      "metadata": {
        "id": "8EKzOzRbRGS8"
      },
      "source": [
        "bairros = pd.DataFrame(data={'name' : preco_medio_por_distrito.index, \r\n",
        "                               'neighbourhood_mean_price' : preco_medio_por_distrito.values, \r\n",
        "                               'number_of_properties' : num_imoveis_por_distrito.values})\r\n",
        "\r\n",
        "bairros_ate_10 = bairros.copy()\r\n",
        "bairros_ate_10.drop(bairros[bairros.number_of_properties > 10].index,\r\n",
        "              axis=0,\r\n",
        "              inplace=True)\r\n",
        "\r\n",
        "bairros_10_a_50 = bairros.copy()\r\n",
        "bairros_10_a_50.drop(bairros[bairros.number_of_properties <= 10].index,\r\n",
        "              axis=0,\r\n",
        "              inplace=True)\r\n",
        "bairros_10_a_50.drop(bairros_10_a_50[bairros_10_a_50.number_of_properties > 50].index,\r\n",
        "              axis=0,\r\n",
        "              inplace=True)\r\n",
        "\r\n",
        "\r\n",
        "bairros_acima_50 = bairros.copy()\r\n",
        "bairros_acima_50.drop(bairros[bairros.number_of_properties <= 50].index,\r\n",
        "              axis=0,\r\n",
        "              inplace=True)"
      ],
      "execution_count": 23,
      "outputs": []
    },
    {
      "cell_type": "markdown",
      "metadata": {
        "id": "ClMJmp-9UYt7"
      },
      "source": [
        "### Localidades com até 10 imóveis\r\n",
        "\r\n",
        "Como já comentamos, *Kirkland*, com valor médio de 123.4 CAD, e *Montréal-Est*, com 107 CAD, são as localidades mais caras do dataset. \r\n",
        "\r\n",
        "Um fato importante é que estes eram municípios da cidade de Montreal que tornaram-se independentes. O primeiro se encontra na região oeste da ilha de Montreal, e o segundo, ao norte."
      ]
    },
    {
      "cell_type": "code",
      "metadata": {
        "colab": {
          "base_uri": "https://localhost:8080/",
          "height": 266
        },
        "id": "aAt_NvTeTSP6",
        "outputId": "bbc232bf-3415-4fba-8206-1ff68fb7290a"
      },
      "source": [
        "bairros_ate_10.sort_values('neighbourhood_mean_price', ascending=False)"
      ],
      "execution_count": 24,
      "outputs": [
        {
          "output_type": "execute_result",
          "data": {
            "text/html": [
              "<div>\n",
              "<style scoped>\n",
              "    .dataframe tbody tr th:only-of-type {\n",
              "        vertical-align: middle;\n",
              "    }\n",
              "\n",
              "    .dataframe tbody tr th {\n",
              "        vertical-align: top;\n",
              "    }\n",
              "\n",
              "    .dataframe thead th {\n",
              "        text-align: right;\n",
              "    }\n",
              "</style>\n",
              "<table border=\"1\" class=\"dataframe\">\n",
              "  <thead>\n",
              "    <tr style=\"text-align: right;\">\n",
              "      <th></th>\n",
              "      <th>name</th>\n",
              "      <th>neighbourhood_mean_price</th>\n",
              "      <th>number_of_properties</th>\n",
              "    </tr>\n",
              "  </thead>\n",
              "  <tbody>\n",
              "    <tr>\n",
              "      <th>9</th>\n",
              "      <td>Kirkland</td>\n",
              "      <td>123.4</td>\n",
              "      <td>5</td>\n",
              "    </tr>\n",
              "    <tr>\n",
              "      <th>17</th>\n",
              "      <td>Montréal-Est</td>\n",
              "      <td>107.0</td>\n",
              "      <td>3</td>\n",
              "    </tr>\n",
              "    <tr>\n",
              "      <th>8</th>\n",
              "      <td>Hampstead</td>\n",
              "      <td>99.5</td>\n",
              "      <td>6</td>\n",
              "    </tr>\n",
              "    <tr>\n",
              "      <th>19</th>\n",
              "      <td>Montréal-Ouest</td>\n",
              "      <td>86.8</td>\n",
              "      <td>10</td>\n",
              "    </tr>\n",
              "    <tr>\n",
              "      <th>2</th>\n",
              "      <td>Baie-d'Urfé</td>\n",
              "      <td>85.0</td>\n",
              "      <td>2</td>\n",
              "    </tr>\n",
              "    <tr>\n",
              "      <th>27</th>\n",
              "      <td>Sainte-Anne-de-Bellevue</td>\n",
              "      <td>46.5</td>\n",
              "      <td>4</td>\n",
              "    </tr>\n",
              "    <tr>\n",
              "      <th>28</th>\n",
              "      <td>Senneville</td>\n",
              "      <td>40.0</td>\n",
              "      <td>2</td>\n",
              "    </tr>\n",
              "  </tbody>\n",
              "</table>\n",
              "</div>"
            ],
            "text/plain": [
              "                       name  neighbourhood_mean_price  number_of_properties\n",
              "9                  Kirkland                     123.4                     5\n",
              "17             Montréal-Est                     107.0                     3\n",
              "8                 Hampstead                      99.5                     6\n",
              "19           Montréal-Ouest                      86.8                    10\n",
              "2               Baie-d'Urfé                      85.0                     2\n",
              "27  Sainte-Anne-de-Bellevue                      46.5                     4\n",
              "28               Senneville                      40.0                     2"
            ]
          },
          "metadata": {
            "tags": []
          },
          "execution_count": 24
        }
      ]
    },
    {
      "cell_type": "markdown",
      "metadata": {
        "id": "x3xex3B3WDoH"
      },
      "source": [
        "### Localidades com 11 à 50 imóveis\r\n",
        "\r\n",
        "Dentre estas localidades, *Côte-Saint-Luc* é a mais cara, com valor médio de 105.10 CAD. Assim como as regiões citadas assima, *Côte-Saint-Luc* também é uma cidade independente.\r\n",
        "\r\n",
        "A segunda mais cara desta classe é Pierrefonds-Roxboro, desta vez um bairro da cidade de Montreal, que toma o litoral norte da região oeste da ilha. Seu valor médio é 87.76 Cad, se aproximando da média da cidade."
      ]
    },
    {
      "cell_type": "code",
      "metadata": {
        "colab": {
          "base_uri": "https://localhost:8080/",
          "height": 328
        },
        "id": "TOn1Nx68TXnz",
        "outputId": "499a9a44-bf27-4629-f5b9-660f85c7dd7a"
      },
      "source": [
        "bairros_10_a_50.sort_values('neighbourhood_mean_price', ascending=False)"
      ],
      "execution_count": 25,
      "outputs": [
        {
          "output_type": "execute_result",
          "data": {
            "text/html": [
              "<div>\n",
              "<style scoped>\n",
              "    .dataframe tbody tr th:only-of-type {\n",
              "        vertical-align: middle;\n",
              "    }\n",
              "\n",
              "    .dataframe tbody tr th {\n",
              "        vertical-align: top;\n",
              "    }\n",
              "\n",
              "    .dataframe thead th {\n",
              "        text-align: right;\n",
              "    }\n",
              "</style>\n",
              "<table border=\"1\" class=\"dataframe\">\n",
              "  <thead>\n",
              "    <tr style=\"text-align: right;\">\n",
              "      <th></th>\n",
              "      <th>name</th>\n",
              "      <th>neighbourhood_mean_price</th>\n",
              "      <th>number_of_properties</th>\n",
              "    </tr>\n",
              "  </thead>\n",
              "  <tbody>\n",
              "    <tr>\n",
              "      <th>4</th>\n",
              "      <td>Côte-Saint-Luc</td>\n",
              "      <td>105.105263</td>\n",
              "      <td>38</td>\n",
              "    </tr>\n",
              "    <tr>\n",
              "      <th>21</th>\n",
              "      <td>Pierrefonds-Roxboro</td>\n",
              "      <td>87.756098</td>\n",
              "      <td>41</td>\n",
              "    </tr>\n",
              "    <tr>\n",
              "      <th>16</th>\n",
              "      <td>Mont-Royal</td>\n",
              "      <td>85.968750</td>\n",
              "      <td>32</td>\n",
              "    </tr>\n",
              "    <tr>\n",
              "      <th>10</th>\n",
              "      <td>L'Île-Bizard-Sainte-Geneviève</td>\n",
              "      <td>84.428571</td>\n",
              "      <td>14</td>\n",
              "    </tr>\n",
              "    <tr>\n",
              "      <th>22</th>\n",
              "      <td>Pointe-Claire</td>\n",
              "      <td>83.476190</td>\n",
              "      <td>42</td>\n",
              "    </tr>\n",
              "    <tr>\n",
              "      <th>3</th>\n",
              "      <td>Beaconsfield</td>\n",
              "      <td>82.615385</td>\n",
              "      <td>13</td>\n",
              "    </tr>\n",
              "    <tr>\n",
              "      <th>7</th>\n",
              "      <td>Dorval</td>\n",
              "      <td>79.687500</td>\n",
              "      <td>32</td>\n",
              "    </tr>\n",
              "    <tr>\n",
              "      <th>6</th>\n",
              "      <td>Dollard-des-Ormeaux</td>\n",
              "      <td>76.966667</td>\n",
              "      <td>30</td>\n",
              "    </tr>\n",
              "    <tr>\n",
              "      <th>1</th>\n",
              "      <td>Anjou</td>\n",
              "      <td>69.978261</td>\n",
              "      <td>46</td>\n",
              "    </tr>\n",
              "  </tbody>\n",
              "</table>\n",
              "</div>"
            ],
            "text/plain": [
              "                             name  ...  number_of_properties\n",
              "4                  Côte-Saint-Luc  ...                    38\n",
              "21            Pierrefonds-Roxboro  ...                    41\n",
              "16                     Mont-Royal  ...                    32\n",
              "10  L'Île-Bizard-Sainte-Geneviève  ...                    14\n",
              "22                  Pointe-Claire  ...                    42\n",
              "3                    Beaconsfield  ...                    13\n",
              "7                          Dorval  ...                    32\n",
              "6             Dollard-des-Ormeaux  ...                    30\n",
              "1                           Anjou  ...                    46\n",
              "\n",
              "[9 rows x 3 columns]"
            ]
          },
          "metadata": {
            "tags": []
          },
          "execution_count": 25
        }
      ]
    },
    {
      "cell_type": "markdown",
      "metadata": {
        "id": "ZJ7KgSy5Y70-"
      },
      "source": [
        "### Localidades com mais de 50 imóveis\r\n",
        "\r\n",
        "Novamente a localidade mais cara é uma cidade independente, chamada *Westmount*, com preço médio de 98.26 CAD.\t\r\n",
        "\r\n",
        "A segunda mais cara é *Le Sud-Ouest*, bairro de Montreal que se encontra ao sul da região central. Esta é a primeira localidade que se aproxima das atrações turísticas da cidade. Seu valor médio é de 91.41 CAD.\r\n",
        "\r\n",
        "Aqui podemos destacar a terceira e a quinta cidades mais caras, *Ville-Marie* e *Le Plateau-Mont-Royal*, com preços médios de 90.51 CAD e 83.17 CAD, respectivamente. Observe como estes valores se aproximam do valor médio da cidade. Ambas são regiões centrais, próximas ao Monte Royal, atrações turísticas e universidades. Juntas estas cidades somam 52.8% do número de propriedades totais.\r\n"
      ]
    },
    {
      "cell_type": "code",
      "metadata": {
        "colab": {
          "base_uri": "https://localhost:8080/",
          "height": 576
        },
        "id": "RvuGOMEvTXO4",
        "outputId": "ee0b2c87-1d10-45f9-eff1-9d19e325ca9b"
      },
      "source": [
        "bairros_acima_50.sort_values('neighbourhood_mean_price', ascending=False)"
      ],
      "execution_count": 26,
      "outputs": [
        {
          "output_type": "execute_result",
          "data": {
            "text/html": [
              "<div>\n",
              "<style scoped>\n",
              "    .dataframe tbody tr th:only-of-type {\n",
              "        vertical-align: middle;\n",
              "    }\n",
              "\n",
              "    .dataframe tbody tr th {\n",
              "        vertical-align: top;\n",
              "    }\n",
              "\n",
              "    .dataframe thead th {\n",
              "        text-align: right;\n",
              "    }\n",
              "</style>\n",
              "<table border=\"1\" class=\"dataframe\">\n",
              "  <thead>\n",
              "    <tr style=\"text-align: right;\">\n",
              "      <th></th>\n",
              "      <th>name</th>\n",
              "      <th>neighbourhood_mean_price</th>\n",
              "      <th>number_of_properties</th>\n",
              "    </tr>\n",
              "  </thead>\n",
              "  <tbody>\n",
              "    <tr>\n",
              "      <th>32</th>\n",
              "      <td>Westmount</td>\n",
              "      <td>98.256757</td>\n",
              "      <td>74</td>\n",
              "    </tr>\n",
              "    <tr>\n",
              "      <th>14</th>\n",
              "      <td>Le Sud-Ouest</td>\n",
              "      <td>91.410419</td>\n",
              "      <td>787</td>\n",
              "    </tr>\n",
              "    <tr>\n",
              "      <th>30</th>\n",
              "      <td>Ville-Marie</td>\n",
              "      <td>90.514269</td>\n",
              "      <td>3329</td>\n",
              "    </tr>\n",
              "    <tr>\n",
              "      <th>20</th>\n",
              "      <td>Outremont</td>\n",
              "      <td>87.992593</td>\n",
              "      <td>135</td>\n",
              "    </tr>\n",
              "    <tr>\n",
              "      <th>13</th>\n",
              "      <td>Le Plateau-Mont-Royal</td>\n",
              "      <td>83.170159</td>\n",
              "      <td>3145</td>\n",
              "    </tr>\n",
              "    <tr>\n",
              "      <th>26</th>\n",
              "      <td>Saint-Léonard</td>\n",
              "      <td>81.310345</td>\n",
              "      <td>58</td>\n",
              "    </tr>\n",
              "    <tr>\n",
              "      <th>25</th>\n",
              "      <td>Saint-Laurent</td>\n",
              "      <td>78.971429</td>\n",
              "      <td>139</td>\n",
              "    </tr>\n",
              "    <tr>\n",
              "      <th>24</th>\n",
              "      <td>Rosemont-La Petite-Patrie</td>\n",
              "      <td>77.393688</td>\n",
              "      <td>1204</td>\n",
              "    </tr>\n",
              "    <tr>\n",
              "      <th>0</th>\n",
              "      <td>Ahuntsic-Cartierville</td>\n",
              "      <td>74.195122</td>\n",
              "      <td>246</td>\n",
              "    </tr>\n",
              "    <tr>\n",
              "      <th>11</th>\n",
              "      <td>LaSalle</td>\n",
              "      <td>74.018182</td>\n",
              "      <td>110</td>\n",
              "    </tr>\n",
              "    <tr>\n",
              "      <th>29</th>\n",
              "      <td>Verdun</td>\n",
              "      <td>73.501742</td>\n",
              "      <td>287</td>\n",
              "    </tr>\n",
              "    <tr>\n",
              "      <th>23</th>\n",
              "      <td>Rivière-des-Prairies-Pointe-aux-Trembles</td>\n",
              "      <td>72.931034</td>\n",
              "      <td>57</td>\n",
              "    </tr>\n",
              "    <tr>\n",
              "      <th>5</th>\n",
              "      <td>Côte-des-Neiges-Notre-Dame-de-Grâce</td>\n",
              "      <td>71.724468</td>\n",
              "      <td>940</td>\n",
              "    </tr>\n",
              "    <tr>\n",
              "      <th>15</th>\n",
              "      <td>Mercier-Hochelaga-Maisonneuve</td>\n",
              "      <td>71.428139</td>\n",
              "      <td>661</td>\n",
              "    </tr>\n",
              "    <tr>\n",
              "      <th>12</th>\n",
              "      <td>Lachine</td>\n",
              "      <td>68.911765</td>\n",
              "      <td>68</td>\n",
              "    </tr>\n",
              "    <tr>\n",
              "      <th>31</th>\n",
              "      <td>Villeray-Saint-Michel-Parc-Extension</td>\n",
              "      <td>68.789308</td>\n",
              "      <td>635</td>\n",
              "    </tr>\n",
              "    <tr>\n",
              "      <th>18</th>\n",
              "      <td>Montréal-Nord</td>\n",
              "      <td>57.310345</td>\n",
              "      <td>58</td>\n",
              "    </tr>\n",
              "  </tbody>\n",
              "</table>\n",
              "</div>"
            ],
            "text/plain": [
              "                                        name  ...  number_of_properties\n",
              "32                                 Westmount  ...                    74\n",
              "14                              Le Sud-Ouest  ...                   787\n",
              "30                               Ville-Marie  ...                  3329\n",
              "20                                 Outremont  ...                   135\n",
              "13                     Le Plateau-Mont-Royal  ...                  3145\n",
              "26                             Saint-Léonard  ...                    58\n",
              "25                             Saint-Laurent  ...                   139\n",
              "24                 Rosemont-La Petite-Patrie  ...                  1204\n",
              "0                      Ahuntsic-Cartierville  ...                   246\n",
              "11                                   LaSalle  ...                   110\n",
              "29                                    Verdun  ...                   287\n",
              "23  Rivière-des-Prairies-Pointe-aux-Trembles  ...                    57\n",
              "5        Côte-des-Neiges-Notre-Dame-de-Grâce  ...                   940\n",
              "15             Mercier-Hochelaga-Maisonneuve  ...                   661\n",
              "12                                   Lachine  ...                    68\n",
              "31      Villeray-Saint-Michel-Parc-Extension  ...                   635\n",
              "18                             Montréal-Nord  ...                    58\n",
              "\n",
              "[17 rows x 3 columns]"
            ]
          },
          "metadata": {
            "tags": []
          },
          "execution_count": 26
        }
      ]
    },
    {
      "cell_type": "code",
      "metadata": {
        "colab": {
          "base_uri": "https://localhost:8080/"
        },
        "id": "nDzUk3VPamEl",
        "outputId": "effd8292-10ae-47cb-d8b4-a7118fb824e6"
      },
      "source": [
        "p = (bairros_acima_50[bairros_acima_50.name == \"Le Plateau-Mont-Royal\"].number_of_properties.values + bairros_acima_50[bairros_acima_50.name == \"Ville-Marie\"].number_of_properties.values)/df_clean.shape[0]*100\r\n",
        "print(f'Porcentagem do número de propriedades de Ville-Marie e Le Plateau-Mont-Royal juntas: {p[0]:.2f}%')"
      ],
      "execution_count": 27,
      "outputs": [
        {
          "output_type": "stream",
          "text": [
            "Porcentagem do número de propriedades de Ville-Marie e Le Plateau-Mont-Royal juntas: 52.80%\n"
          ],
          "name": "stdout"
        }
      ]
    },
    {
      "cell_type": "markdown",
      "metadata": {
        "id": "vTneAMRUYvr1"
      },
      "source": [
        "### **Existem anfitriões com muitas propriedades?**\r\n",
        "Para terminar a nossa análise, podemos verificar que existe um anfitrião com 109 imóveis cadastrados no Airbnbalém de outros com mais de 50 imóveis. Isso nos indica que podem existem pessoas ou grupo utilizando o sistema do Airbnb para efetuar locações em larga escala, o que afeta de certa maneira o mercado de aluguéis da cidade."
      ]
    },
    {
      "cell_type": "code",
      "metadata": {
        "colab": {
          "base_uri": "https://localhost:8080/"
        },
        "id": "s58B3VCuNNiY",
        "outputId": "b62844ab-bd18-4a85-a7e9-aa2106354dd6"
      },
      "source": [
        "hosts = df_clean.groupby(['host_id']).id.count().sort_values(ascending=False)\r\n",
        "hosts[hosts > 1]"
      ],
      "execution_count": 28,
      "outputs": [
        {
          "output_type": "execute_result",
          "data": {
            "text/plain": [
              "host_id\n",
              "38459934     109\n",
              "72761895      69\n",
              "28047654      68\n",
              "292507076     68\n",
              "48013451      51\n",
              "            ... \n",
              "13122099       2\n",
              "136931154      2\n",
              "39471384       2\n",
              "140469620      2\n",
              "117380294      2\n",
              "Name: id, Length: 1321, dtype: int64"
            ]
          },
          "metadata": {
            "tags": []
          },
          "execution_count": 28
        }
      ]
    },
    {
      "cell_type": "markdown",
      "metadata": {
        "id": "GkvAg623RjoR"
      },
      "source": [
        "## Conclusões\n"
      ]
    },
    {
      "cell_type": "markdown",
      "metadata": {
        "id": "rbZ3Hsy9Ypw8"
      },
      "source": [
        "Podemos ver que, nos restringindo aos bairros da cidade de Montreal, os mais caros se encontram na região central com destaque para *Ville-Marie* e *Le Plateau-Mont-Royal*, nos arredores do Monte Royal, próximo das principais atrações turísticas, de ruas e avenidas movimentadas com lojas e bares e universidades.\r\n",
        "\r\n",
        "Todavia, notamos que os valores mais caros para locação do dataset são de regiões ou mais distantes do centro ou em cidades que eram municipíos de Montreal mas desde 2006 são independentes. \r\n",
        "\r\n",
        "Verificamos dentre os tipos de propriedades com maior disponibilidade, se encontram casas ou apartamentos inteiros e quartos privados, o primeiro custando quase o dobro do segundo.\r\n",
        "\r\n",
        "\r\n",
        "\r\n"
      ]
    }
  ]
}